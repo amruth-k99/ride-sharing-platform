{
 "cells": [
  {
   "cell_type": "markdown",
   "id": "2de78777",
   "metadata": {
    "papermill": {
     "duration": 0.0274,
     "end_time": "2024-10-09T01:12:23.472281",
     "exception": false,
     "start_time": "2024-10-09T01:12:23.444881",
     "status": "completed"
    },
    "tags": []
   },
   "source": [
    "### 1) Understanding Data\n",
    "\n",
    "* a) Understand Columns\n",
    "* b) check dtype -> df[col].astype()\n",
    "* c) Describe Numerical Cols\n",
    "* d) Describe Categorical Cols\n",
    "\n",
    "### 2) EXTRACT FEATURES + EDA (uni - bi(heatmap) - multi) -> Insights:\n",
    "* Uni-variate Analysis\n",
    "    - Histogram (values)\n",
    "    - distplot (distrbution)\n",
    "    - catigorical (pie / count)\n",
    "\n",
    "* Bi-Variate Analysis\n",
    "    * Num vs Num\n",
    "        - Scatter (relationship btn 2 variables)\n",
    "        - line (trend with time)\n",
    "    * Num vs Cat (distrbution)\n",
    "        - box \n",
    "        - violin\n",
    "        - strip\n",
    "    * Cat vs Cat\n",
    "        - bar (estimate plot)\n",
    "        - countplot (count rows)\n",
    "\n",
    "* Multi-Variate Analysis\n",
    "    * Pairplot\n",
    "\n",
    "### 3) Pre-Processing Mind Map:\n",
    "* a) Detect & Handle Duplicates\n",
    "* b) train_test_split\n",
    "* c) Detect & Handle NaNs\n",
    "* d) Detect & Handle Outliers\n",
    "* e) Encoding: (Ordinal:[OrdinalEncoder, LabelEncoder] - Nominal: [< 7 uniques(OneHotEncoding), > 7 uniques (BinaryEncoder)])\n",
    "* f) Imbalanced: X_train_resampled\n",
    "* g) Scaling: StandardScaler, MinMaxScaler, RobustScaler: X_train_resampled_scaled"
   ]
  },
  {
   "cell_type": "markdown",
   "id": "026e43b2",
   "metadata": {
    "papermill": {
     "duration": 0.025613,
     "end_time": "2024-10-09T01:12:23.525735",
     "exception": false,
     "start_time": "2024-10-09T01:12:23.500122",
     "status": "completed"
    },
    "tags": []
   },
   "source": [
    "---"
   ]
  },
  {
   "cell_type": "code",
   "execution_count": 3,
   "id": "d7f3d83b",
   "metadata": {
    "papermill": {
     "duration": 24.713811,
     "end_time": "2024-10-09T01:12:48.266161",
     "exception": false,
     "start_time": "2024-10-09T01:12:23.552350",
     "status": "completed"
    },
    "tags": []
   },
   "outputs": [
    {
     "name": "stdout",
     "output_type": "stream",
     "text": [
      "Collecting user_agents"
     ]
    },
    {
     "name": "stderr",
     "output_type": "stream",
     "text": [
      "ERROR: pip's dependency resolver does not currently take into account all the packages that are installed. This behaviour is the source of the following dependency conflicts.\n",
      "sphinx 5.0.2 requires docutils<0.19,>=0.14, but you have docutils 0.21.2 which is incompatible.\n"
     ]
    },
    {
     "name": "stdout",
     "output_type": "stream",
     "text": [
      "\n",
      "  Downloading user_agents-2.2.0-py3-none-any.whl.metadata (7.9 kB)\n",
      "Collecting ip2geotools\n",
      "  Downloading ip2geotools-0.1.6-py3-none-any.whl.metadata (9.3 kB)\n",
      "Collecting ua-parser>=0.10.0 (from user_agents)\n",
      "  Downloading ua_parser-1.0.0-py3-none-any.whl.metadata (5.6 kB)\n",
      "Requirement already satisfied: astroid>=2.1.0 in c:\\users\\sande\\anaconda3\\lib\\site-packages (from ip2geotools) (2.14.2)\n",
      "Requirement already satisfied: autopep8>=1.4.3 in c:\\users\\sande\\anaconda3\\lib\\site-packages (from ip2geotools) (1.6.0)\n",
      "Requirement already satisfied: bleach>=3.0.2 in c:\\users\\sande\\anaconda3\\lib\\site-packages (from ip2geotools) (4.1.0)\n",
      "Requirement already satisfied: certifi>=2018.10.15 in c:\\users\\sande\\anaconda3\\lib\\site-packages (from ip2geotools) (2024.7.4)\n",
      "Requirement already satisfied: chardet>=3.0.4 in c:\\users\\sande\\anaconda3\\lib\\site-packages (from ip2geotools) (4.0.0)\n",
      "Requirement already satisfied: Click>=7.0 in c:\\users\\sande\\anaconda3\\lib\\site-packages (from ip2geotools) (8.0.4)\n",
      "Requirement already satisfied: cssselect>=1.0.3 in c:\\users\\sande\\anaconda3\\lib\\site-packages (from ip2geotools) (1.1.0)\n",
      "Requirement already satisfied: decorator>=4.3.0 in c:\\users\\sande\\anaconda3\\lib\\site-packages (from ip2geotools) (5.1.1)\n",
      "Collecting dicttoxml>=1.7.4 (from ip2geotools)\n",
      "  Downloading dicttoxml-1.7.16-py3-none-any.whl.metadata (47 kB)\n",
      "Requirement already satisfied: docutils>=0.14 in c:\\users\\sande\\anaconda3\\lib\\site-packages (from ip2geotools) (0.18.1)\n",
      "Requirement already satisfied: future>=0.17.1 in c:\\users\\sande\\anaconda3\\lib\\site-packages (from ip2geotools) (0.18.3)\n",
      "Collecting geocoder>=1.38.1 (from ip2geotools)\n",
      "  Downloading geocoder-1.38.1-py2.py3-none-any.whl.metadata (14 kB)\n",
      "Collecting geoip2>=2.9.0 (from ip2geotools)\n",
      "  Downloading geoip2-4.8.1-py3-none-any.whl.metadata (18 kB)\n",
      "Requirement already satisfied: idna>=2.7 in c:\\users\\sande\\anaconda3\\lib\\site-packages (from ip2geotools) (3.4)\n",
      "Collecting IP2Location>=8.0.3 (from ip2geotools)\n",
      "  Downloading IP2Location-8.10.4-py3-none-any.whl.metadata (3.5 kB)\n",
      "Requirement already satisfied: isort>=4.3.4 in c:\\users\\sande\\anaconda3\\lib\\site-packages (from ip2geotools) (5.9.3)\n",
      "Requirement already satisfied: lazy-object-proxy>=1.3.1 in c:\\users\\sande\\anaconda3\\lib\\site-packages (from ip2geotools) (1.6.0)\n",
      "Requirement already satisfied: lxml>=4.2.5 in c:\\users\\sande\\anaconda3\\lib\\site-packages (from ip2geotools) (4.9.3)\n",
      "Collecting maxminddb>=1.4.1 (from ip2geotools)\n",
      "  Downloading maxminddb-2.6.2-cp311-cp311-win_amd64.whl.metadata (5.2 kB)\n",
      "Requirement already satisfied: mccabe>=0.6.1 in c:\\users\\sande\\anaconda3\\lib\\site-packages (from ip2geotools) (0.7.0)\n",
      "Requirement already satisfied: packaging>=18.0 in c:\\users\\sande\\anaconda3\\lib\\site-packages (from ip2geotools) (23.1)\n",
      "Collecting pip-review>=1.0 (from ip2geotools)\n",
      "  Downloading pip-review-1.3.0.tar.gz (6.6 kB)\n",
      "  Preparing metadata (setup.py): started\n",
      "  Preparing metadata (setup.py): finished with status 'done'\n",
      "Requirement already satisfied: pkginfo>=1.4.2 in c:\\users\\sande\\anaconda3\\lib\\site-packages (from ip2geotools) (1.9.6)\n",
      "Requirement already satisfied: pycodestyle>=2.4.0 in c:\\users\\sande\\anaconda3\\lib\\site-packages (from ip2geotools) (2.10.0)\n",
      "Requirement already satisfied: Pygments>=2.3.0 in c:\\users\\sande\\anaconda3\\lib\\site-packages (from ip2geotools) (2.15.1)\n",
      "Requirement already satisfied: pylint>=2.2.0 in c:\\users\\sande\\anaconda3\\lib\\site-packages (from ip2geotools) (2.16.2)\n",
      "Requirement already satisfied: pyparsing>=2.3.0 in c:\\users\\sande\\anaconda3\\lib\\site-packages (from ip2geotools) (3.0.9)\n",
      "Collecting pyquery>=1.4.0 (from ip2geotools)\n",
      "  Downloading pyquery-2.0.1-py3-none-any.whl.metadata (9.0 kB)\n",
      "Collecting ratelim>=0.1.6 (from ip2geotools)\n",
      "  Downloading ratelim-0.1.6-py2.py3-none-any.whl.metadata (1.4 kB)\n",
      "Collecting readme-renderer>=24.0 (from ip2geotools)\n",
      "  Downloading readme_renderer-44.0-py3-none-any.whl.metadata (2.8 kB)\n",
      "Requirement already satisfied: requests>=2.20.1 in c:\\users\\sande\\anaconda3\\lib\\site-packages (from ip2geotools) (2.31.0)\n",
      "Requirement already satisfied: requests-toolbelt>=0.8.0 in c:\\users\\sande\\anaconda3\\lib\\site-packages (from ip2geotools) (1.0.0)\n",
      "Collecting selenium>=3.141.0 (from ip2geotools)\n",
      "  Downloading selenium-4.27.1-py3-none-any.whl.metadata (7.1 kB)\n",
      "Requirement already satisfied: six>=1.11.0 in c:\\users\\sande\\anaconda3\\lib\\site-packages (from ip2geotools) (1.16.0)\n",
      "Requirement already satisfied: tqdm>=4.28.1 in c:\\users\\sande\\anaconda3\\lib\\site-packages (from ip2geotools) (4.65.0)\n",
      "Collecting twine>=1.12.1 (from ip2geotools)\n",
      "  Downloading twine-6.0.1-py3-none-any.whl.metadata (3.7 kB)\n",
      "Collecting typed-ast>=1.1.0 (from ip2geotools)\n",
      "  Downloading typed_ast-1.5.5-cp311-cp311-win_amd64.whl.metadata (1.7 kB)\n",
      "Collecting typing>=3.6.6 (from ip2geotools)\n",
      "  Downloading typing-3.7.4.3.tar.gz (78 kB)\n",
      "  Preparing metadata (setup.py): started\n",
      "  Preparing metadata (setup.py): finished with status 'done'\n",
      "Requirement already satisfied: urllib3>=1.24.1 in c:\\users\\sande\\anaconda3\\lib\\site-packages (from ip2geotools) (1.26.16)\n",
      "Requirement already satisfied: webencodings>=0.5.1 in c:\\users\\sande\\anaconda3\\lib\\site-packages (from ip2geotools) (0.5.1)\n",
      "Requirement already satisfied: wrapt>=1.10.11 in c:\\users\\sande\\anaconda3\\lib\\site-packages (from ip2geotools) (1.14.1)\n",
      "Requirement already satisfied: toml in c:\\users\\sande\\anaconda3\\lib\\site-packages (from autopep8>=1.4.3->ip2geotools) (0.10.2)\n",
      "Requirement already satisfied: colorama in c:\\users\\sande\\anaconda3\\lib\\site-packages (from Click>=7.0->ip2geotools) (0.4.6)\n",
      "Requirement already satisfied: aiohttp<4.0.0,>=3.6.2 in c:\\users\\sande\\anaconda3\\lib\\site-packages (from geoip2>=2.9.0->ip2geotools) (3.8.5)\n",
      "Requirement already satisfied: pip in c:\\users\\sande\\anaconda3\\lib\\site-packages (from pip-review>=1.0->ip2geotools) (24.3.1)\n",
      "Requirement already satisfied: platformdirs>=2.2.0 in c:\\users\\sande\\anaconda3\\lib\\site-packages (from pylint>=2.2.0->ip2geotools) (3.10.0)\n",
      "Requirement already satisfied: tomlkit>=0.10.1 in c:\\users\\sande\\anaconda3\\lib\\site-packages (from pylint>=2.2.0->ip2geotools) (0.11.1)\n",
      "Requirement already satisfied: dill>=0.3.6 in c:\\users\\sande\\anaconda3\\lib\\site-packages (from pylint>=2.2.0->ip2geotools) (0.3.6)\n",
      "Collecting cssselect>=1.0.3 (from ip2geotools)\n",
      "  Downloading cssselect-1.2.0-py2.py3-none-any.whl.metadata (2.2 kB)\n",
      "Collecting nh3>=0.2.14 (from readme-renderer>=24.0->ip2geotools)\n",
      "  Downloading nh3-0.2.19-cp38-abi3-win_amd64.whl.metadata (1.8 kB)\n",
      "Collecting docutils>=0.14 (from ip2geotools)\n",
      "  Downloading docutils-0.21.2-py3-none-any.whl.metadata (2.8 kB)\n",
      "Requirement already satisfied: charset-normalizer<4,>=2 in c:\\users\\sande\\anaconda3\\lib\\site-packages (from requests>=2.20.1->ip2geotools) (2.0.4)\n",
      "Collecting trio~=0.17 (from selenium>=3.141.0->ip2geotools)\n",
      "  Downloading trio-0.27.0-py3-none-any.whl.metadata (8.6 kB)\n",
      "Collecting trio-websocket~=0.9 (from selenium>=3.141.0->ip2geotools)\n",
      "  Downloading trio_websocket-0.11.1-py3-none-any.whl.metadata (4.7 kB)\n",
      "Collecting typing_extensions~=4.9 (from selenium>=3.141.0->ip2geotools)\n",
      "  Downloading typing_extensions-4.12.2-py3-none-any.whl.metadata (3.0 kB)\n",
      "Requirement already satisfied: websocket-client~=1.8 in c:\\users\\sande\\anaconda3\\lib\\site-packages (from selenium>=3.141.0->ip2geotools) (1.8.0)\n",
      "Requirement already satisfied: keyring>=15.1 in c:\\users\\sande\\anaconda3\\lib\\site-packages (from twine>=1.12.1->ip2geotools) (23.13.1)\n",
      "Collecting rfc3986>=1.4.0 (from twine>=1.12.1->ip2geotools)\n",
      "  Downloading rfc3986-2.0.0-py2.py3-none-any.whl.metadata (6.6 kB)\n",
      "Requirement already satisfied: rich>=12.0.0 in c:\\users\\sande\\anaconda3\\lib\\site-packages (from twine>=1.12.1->ip2geotools) (13.9.4)\n",
      "Collecting ua-parser-builtins (from ua-parser>=0.10.0->user_agents)\n",
      "  Downloading ua_parser_builtins-0.18.0.post1-py3-none-any.whl.metadata (1.4 kB)\n",
      "Requirement already satisfied: attrs>=17.3.0 in c:\\users\\sande\\anaconda3\\lib\\site-packages (from aiohttp<4.0.0,>=3.6.2->geoip2>=2.9.0->ip2geotools) (23.1.0)\n",
      "Requirement already satisfied: multidict<7.0,>=4.5 in c:\\users\\sande\\anaconda3\\lib\\site-packages (from aiohttp<4.0.0,>=3.6.2->geoip2>=2.9.0->ip2geotools) (6.0.2)\n",
      "Requirement already satisfied: async-timeout<5.0,>=4.0.0a3 in c:\\users\\sande\\anaconda3\\lib\\site-packages (from aiohttp<4.0.0,>=3.6.2->geoip2>=2.9.0->ip2geotools) (4.0.2)\n",
      "Requirement already satisfied: yarl<2.0,>=1.0 in c:\\users\\sande\\anaconda3\\lib\\site-packages (from aiohttp<4.0.0,>=3.6.2->geoip2>=2.9.0->ip2geotools) (1.8.1)\n",
      "Requirement already satisfied: frozenlist>=1.1.1 in c:\\users\\sande\\anaconda3\\lib\\site-packages (from aiohttp<4.0.0,>=3.6.2->geoip2>=2.9.0->ip2geotools) (1.3.3)\n",
      "Requirement already satisfied: aiosignal>=1.1.2 in c:\\users\\sande\\anaconda3\\lib\\site-packages (from aiohttp<4.0.0,>=3.6.2->geoip2>=2.9.0->ip2geotools) (1.2.0)\n",
      "Requirement already satisfied: jaraco.classes in c:\\users\\sande\\anaconda3\\lib\\site-packages (from keyring>=15.1->twine>=1.12.1->ip2geotools) (3.2.1)\n",
      "Requirement already satisfied: importlib-metadata>=4.11.4 in c:\\users\\sande\\anaconda3\\lib\\site-packages (from keyring>=15.1->twine>=1.12.1->ip2geotools) (6.0.0)\n",
      "Requirement already satisfied: pywin32-ctypes>=0.2.0 in c:\\users\\sande\\anaconda3\\lib\\site-packages (from keyring>=15.1->twine>=1.12.1->ip2geotools) (0.2.0)\n",
      "Requirement already satisfied: markdown-it-py>=2.2.0 in c:\\users\\sande\\anaconda3\\lib\\site-packages (from rich>=12.0.0->twine>=1.12.1->ip2geotools) (2.2.0)\n",
      "Collecting attrs>=17.3.0 (from aiohttp<4.0.0,>=3.6.2->geoip2>=2.9.0->ip2geotools)\n",
      "  Downloading attrs-24.2.0-py3-none-any.whl.metadata (11 kB)\n",
      "Requirement already satisfied: sortedcontainers in c:\\users\\sande\\anaconda3\\lib\\site-packages (from trio~=0.17->selenium>=3.141.0->ip2geotools) (2.4.0)\n",
      "Collecting outcome (from trio~=0.17->selenium>=3.141.0->ip2geotools)\n",
      "  Downloading outcome-1.3.0.post0-py2.py3-none-any.whl.metadata (2.6 kB)\n",
      "Collecting sniffio>=1.3.0 (from trio~=0.17->selenium>=3.141.0->ip2geotools)\n",
      "  Downloading sniffio-1.3.1-py3-none-any.whl.metadata (3.9 kB)\n",
      "Requirement already satisfied: cffi>=1.14 in c:\\users\\sande\\anaconda3\\lib\\site-packages (from trio~=0.17->selenium>=3.141.0->ip2geotools) (1.15.1)\n",
      "Collecting wsproto>=0.14 (from trio-websocket~=0.9->selenium>=3.141.0->ip2geotools)\n",
      "  Downloading wsproto-1.2.0-py3-none-any.whl.metadata (5.6 kB)\n",
      "Requirement already satisfied: PySocks!=1.5.7,<2.0,>=1.5.6 in c:\\users\\sande\\anaconda3\\lib\\site-packages (from urllib3[socks]<3,>=1.26->selenium>=3.141.0->ip2geotools) (1.7.1)\n",
      "Requirement already satisfied: pycparser in c:\\users\\sande\\anaconda3\\lib\\site-packages (from cffi>=1.14->trio~=0.17->selenium>=3.141.0->ip2geotools) (2.21)\n",
      "Requirement already satisfied: zipp>=0.5 in c:\\users\\sande\\anaconda3\\lib\\site-packages (from importlib-metadata>=4.11.4->keyring>=15.1->twine>=1.12.1->ip2geotools) (3.11.0)\n",
      "Requirement already satisfied: mdurl~=0.1 in c:\\users\\sande\\anaconda3\\lib\\site-packages (from markdown-it-py>=2.2.0->rich>=12.0.0->twine>=1.12.1->ip2geotools) (0.1.0)\n",
      "Requirement already satisfied: h11<1,>=0.9.0 in c:\\users\\sande\\anaconda3\\lib\\site-packages (from wsproto>=0.14->trio-websocket~=0.9->selenium>=3.141.0->ip2geotools) (0.14.0)\n",
      "Requirement already satisfied: more-itertools in c:\\users\\sande\\anaconda3\\lib\\site-packages (from jaraco.classes->keyring>=15.1->twine>=1.12.1->ip2geotools) (8.12.0)\n",
      "Downloading user_agents-2.2.0-py3-none-any.whl (9.6 kB)\n",
      "Downloading ip2geotools-0.1.6-py3-none-any.whl (16 kB)\n",
      "Downloading dicttoxml-1.7.16-py3-none-any.whl (24 kB)\n",
      "Downloading geocoder-1.38.1-py2.py3-none-any.whl (98 kB)\n",
      "Downloading geoip2-4.8.1-py3-none-any.whl (27 kB)\n",
      "Downloading IP2Location-8.10.4-py3-none-any.whl (14 kB)\n",
      "Downloading maxminddb-2.6.2-cp311-cp311-win_amd64.whl (36 kB)\n",
      "Downloading pyquery-2.0.1-py3-none-any.whl (22 kB)\n",
      "Downloading cssselect-1.2.0-py2.py3-none-any.whl (18 kB)\n",
      "Downloading ratelim-0.1.6-py2.py3-none-any.whl (4.0 kB)\n",
      "Downloading readme_renderer-44.0-py3-none-any.whl (13 kB)\n",
      "Downloading docutils-0.21.2-py3-none-any.whl (587 kB)\n",
      "   ---------------------------------------- 0.0/587.4 kB ? eta -:--:--\n",
      "   ----------------- ---------------------- 262.1/587.4 kB ? eta -:--:--\n",
      "   ---------------------------------------- 587.4/587.4 kB 1.7 MB/s eta 0:00:00\n",
      "Downloading selenium-4.27.1-py3-none-any.whl (9.7 MB)\n",
      "   ---------------------------------------- 0.0/9.7 MB ? eta -:--:--\n",
      "   - -------------------------------------- 0.3/9.7 MB ? eta -:--:--\n",
      "   --- ------------------------------------ 0.8/9.7 MB 2.0 MB/s eta 0:00:05\n",
      "   ----- ---------------------------------- 1.3/9.7 MB 2.2 MB/s eta 0:00:04\n",
      "   ------- -------------------------------- 1.8/9.7 MB 2.2 MB/s eta 0:00:04\n",
      "   --------- ------------------------------ 2.4/9.7 MB 2.3 MB/s eta 0:00:04\n",
      "   ---------- ----------------------------- 2.6/9.7 MB 2.3 MB/s eta 0:00:04\n",
      "   ----------- ---------------------------- 2.9/9.7 MB 1.9 MB/s eta 0:00:04\n",
      "   ------------ --------------------------- 3.1/9.7 MB 1.8 MB/s eta 0:00:04\n",
      "   -------------- ------------------------- 3.4/9.7 MB 1.8 MB/s eta 0:00:04\n",
      "   --------------- ------------------------ 3.7/9.7 MB 1.7 MB/s eta 0:00:04\n",
      "   ---------------- ----------------------- 3.9/9.7 MB 1.7 MB/s eta 0:00:04\n",
      "   ----------------- ---------------------- 4.2/9.7 MB 1.6 MB/s eta 0:00:04\n",
      "   ------------------ --------------------- 4.5/9.7 MB 1.6 MB/s eta 0:00:04\n",
      "   ------------------- -------------------- 4.7/9.7 MB 1.6 MB/s eta 0:00:04\n",
      "   ------------------- -------------------- 4.7/9.7 MB 1.6 MB/s eta 0:00:04\n",
      "   -------------------- ------------------- 5.0/9.7 MB 1.5 MB/s eta 0:00:04\n",
      "   --------------------- ------------------ 5.2/9.7 MB 1.5 MB/s eta 0:00:04\n",
      "   ----------------------- ---------------- 5.8/9.7 MB 1.5 MB/s eta 0:00:03\n",
      "   ------------------------ --------------- 6.0/9.7 MB 1.5 MB/s eta 0:00:03\n",
      "   ------------------------- -------------- 6.3/9.7 MB 1.5 MB/s eta 0:00:03\n",
      "   --------------------------- ------------ 6.6/9.7 MB 1.4 MB/s eta 0:00:03\n",
      "   --------------------------- ------------ 6.6/9.7 MB 1.4 MB/s eta 0:00:03\n",
      "   ----------------------------- ---------- 7.1/9.7 MB 1.4 MB/s eta 0:00:02\n",
      "   ------------------------------ --------- 7.3/9.7 MB 1.4 MB/s eta 0:00:02\n",
      "   -------------------------------- ------- 7.9/9.7 MB 1.5 MB/s eta 0:00:02\n",
      "   --------------------------------- ------ 8.1/9.7 MB 1.5 MB/s eta 0:00:02\n",
      "   ----------------------------------- ---- 8.7/9.7 MB 1.5 MB/s eta 0:00:01\n",
      "   ------------------------------------- -- 9.2/9.7 MB 1.5 MB/s eta 0:00:01\n",
      "   ---------------------------------------  9.7/9.7 MB 1.5 MB/s eta 0:00:01\n",
      "   ---------------------------------------- 9.7/9.7 MB 1.5 MB/s eta 0:00:00\n",
      "Downloading twine-6.0.1-py3-none-any.whl (39 kB)\n",
      "Downloading typed_ast-1.5.5-cp311-cp311-win_amd64.whl (139 kB)\n",
      "Downloading ua_parser-1.0.0-py3-none-any.whl (31 kB)\n",
      "Downloading nh3-0.2.19-cp38-abi3-win_amd64.whl (542 kB)\n",
      "   ---------------------------------------- 0.0/542.3 kB ? eta -:--:--\n",
      "   -------------------------------------- - 524.3/542.3 kB 2.4 MB/s eta 0:00:01\n",
      "   ---------------------------------------- 542.3/542.3 kB 2.0 MB/s eta 0:00:00\n",
      "Downloading rfc3986-2.0.0-py2.py3-none-any.whl (31 kB)\n",
      "Downloading trio-0.27.0-py3-none-any.whl (481 kB)\n",
      "Downloading trio_websocket-0.11.1-py3-none-any.whl (17 kB)\n",
      "Downloading typing_extensions-4.12.2-py3-none-any.whl (37 kB)\n",
      "Downloading ua_parser_builtins-0.18.0.post1-py3-none-any.whl (86 kB)\n",
      "Downloading attrs-24.2.0-py3-none-any.whl (63 kB)\n",
      "Downloading sniffio-1.3.1-py3-none-any.whl (10 kB)\n",
      "Downloading wsproto-1.2.0-py3-none-any.whl (24 kB)\n",
      "Downloading outcome-1.3.0.post0-py2.py3-none-any.whl (10 kB)\n",
      "Building wheels for collected packages: pip-review, typing\n",
      "  Building wheel for pip-review (setup.py): started\n",
      "  Building wheel for pip-review (setup.py): finished with status 'done'\n",
      "  Created wheel for pip-review: filename=pip_review-1.3.0-py3-none-any.whl size=6567 sha256=5985f63be7d804f458c533c7289b6b319968190f2a47af597c19e6bc8830ce82\n",
      "  Stored in directory: c:\\users\\sande\\appdata\\local\\pip\\cache\\wheels\\d0\\ce\\12\\63bc7509769c60694754be1b384738e28855393a959ebdd350\n",
      "  Building wheel for typing (setup.py): started\n",
      "  Building wheel for typing (setup.py): finished with status 'done'\n",
      "  Created wheel for typing: filename=typing-3.7.4.3-py3-none-any.whl size=26325 sha256=c30915b611414d69ee3916d351bcd70a100e9e7c7ca13dfb93e6de92974ec357\n",
      "  Stored in directory: c:\\users\\sande\\appdata\\local\\pip\\cache\\wheels\\9d\\67\\2f\\53e3ef32ec48d11d7d60245255e2d71e908201d20c880c08ee\n",
      "Successfully built pip-review typing\n",
      "Installing collected packages: nh3, IP2Location, wsproto, ua-parser-builtins, typing_extensions, typing, typed-ast, sniffio, rfc3986, ratelim, pip-review, maxminddb, docutils, dicttoxml, cssselect, attrs, ua-parser, readme-renderer, pyquery, outcome, geocoder, user_agents, twine, trio, geoip2, trio-websocket, selenium, ip2geotools\n",
      "  Attempting uninstall: typing_extensions\n",
      "    Found existing installation: typing_extensions 4.7.1\n",
      "    Uninstalling typing_extensions-4.7.1:\n",
      "      Successfully uninstalled typing_extensions-4.7.1\n",
      "  Attempting uninstall: sniffio\n",
      "    Found existing installation: sniffio 1.2.0\n",
      "    Uninstalling sniffio-1.2.0:\n",
      "      Successfully uninstalled sniffio-1.2.0\n",
      "  Attempting uninstall: docutils\n",
      "    Found existing installation: docutils 0.18.1\n",
      "    Uninstalling docutils-0.18.1:\n",
      "      Successfully uninstalled docutils-0.18.1\n",
      "  Attempting uninstall: cssselect\n",
      "    Found existing installation: cssselect 1.1.0\n",
      "    Uninstalling cssselect-1.1.0:\n",
      "      Successfully uninstalled cssselect-1.1.0\n",
      "  Attempting uninstall: attrs\n",
      "    Found existing installation: attrs 23.1.0\n",
      "    Uninstalling attrs-23.1.0:\n",
      "      Successfully uninstalled attrs-23.1.0\n",
      "Successfully installed IP2Location-8.10.4 attrs-24.2.0 cssselect-1.2.0 dicttoxml-1.7.16 docutils-0.21.2 geocoder-1.38.1 geoip2-4.8.1 ip2geotools-0.1.6 maxminddb-2.6.2 nh3-0.2.19 outcome-1.3.0.post0 pip-review-1.3.0 pyquery-2.0.1 ratelim-0.1.6 readme-renderer-44.0 rfc3986-2.0.0 selenium-4.27.1 sniffio-1.3.1 trio-0.27.0 trio-websocket-0.11.1 twine-6.0.1 typed-ast-1.5.5 typing-3.7.4.3 typing_extensions-4.12.2 ua-parser-1.0.0 ua-parser-builtins-0.18.0.post1 user_agents-2.2.0 wsproto-1.2.0\n"
     ]
    }
   ],
   "source": [
    "!pip install user_agents ip2geotools"
   ]
  },
  {
   "cell_type": "code",
   "execution_count": 95,
   "id": "dbb8a354-524b-486e-855b-bc7a292e421e",
   "metadata": {},
   "outputs": [
    {
     "name": "stdout",
     "output_type": "stream",
     "text": [
      "Collecting geopy\n",
      "  Downloading geopy-2.4.1-py3-none-any.whl.metadata (6.8 kB)\n",
      "Collecting geographiclib<3,>=1.52 (from geopy)\n",
      "  Downloading geographiclib-2.0-py3-none-any.whl.metadata (1.4 kB)\n",
      "Downloading geopy-2.4.1-py3-none-any.whl (125 kB)\n",
      "Downloading geographiclib-2.0-py3-none-any.whl (40 kB)\n",
      "Installing collected packages: geographiclib, geopy\n",
      "Successfully installed geographiclib-2.0 geopy-2.4.1\n"
     ]
    }
   ],
   "source": [
    "!pip install geopy\n"
   ]
  },
  {
   "cell_type": "code",
   "execution_count": 97,
   "id": "274b3dd3",
   "metadata": {
    "papermill": {
     "duration": 4.523602,
     "end_time": "2024-10-09T01:12:52.822958",
     "exception": false,
     "start_time": "2024-10-09T01:12:48.299356",
     "status": "completed"
    },
    "tags": []
   },
   "outputs": [
    {
     "ename": "ModuleNotFoundError",
     "evalue": "No module named 'category_encoders'",
     "output_type": "error",
     "traceback": [
      "\u001b[1;31m---------------------------------------------------------------------------\u001b[0m",
      "\u001b[1;31mModuleNotFoundError\u001b[0m                       Traceback (most recent call last)",
      "Cell \u001b[1;32mIn[97], line 21\u001b[0m\n\u001b[0;32m     19\u001b[0m \u001b[38;5;28;01mfrom\u001b[39;00m \u001b[38;5;21;01msklearn\u001b[39;00m\u001b[38;5;21;01m.\u001b[39;00m\u001b[38;5;21;01mimpute\u001b[39;00m \u001b[38;5;28;01mimport\u001b[39;00m SimpleImputer, KNNImputer \u001b[38;5;66;03m# detect & handle NaNs\u001b[39;00m\n\u001b[0;32m     20\u001b[0m \u001b[38;5;28;01mfrom\u001b[39;00m \u001b[38;5;21;01msklearn\u001b[39;00m\u001b[38;5;21;01m.\u001b[39;00m\u001b[38;5;21;01mpreprocessing\u001b[39;00m \u001b[38;5;28;01mimport\u001b[39;00m OrdinalEncoder, LabelEncoder, OneHotEncoder \u001b[38;5;66;03m# Ordinal Encoding, Nominal Encoding\u001b[39;00m\n\u001b[1;32m---> 21\u001b[0m \u001b[38;5;28;01mfrom\u001b[39;00m \u001b[38;5;21;01mcategory_encoders\u001b[39;00m \u001b[38;5;28;01mimport\u001b[39;00m BinaryEncoder \u001b[38;5;66;03m# Nominal Encoding \u001b[39;00m\n\u001b[0;32m     22\u001b[0m \u001b[38;5;28;01mfrom\u001b[39;00m \u001b[38;5;21;01mimblearn\u001b[39;00m\u001b[38;5;21;01m.\u001b[39;00m\u001b[38;5;21;01munder_sampling\u001b[39;00m \u001b[38;5;28;01mimport\u001b[39;00m RandomUnderSampler \u001b[38;5;66;03m# undersampling\u001b[39;00m\n\u001b[0;32m     23\u001b[0m \u001b[38;5;28;01mfrom\u001b[39;00m \u001b[38;5;21;01mimblearn\u001b[39;00m\u001b[38;5;21;01m.\u001b[39;00m\u001b[38;5;21;01mover_sampling\u001b[39;00m \u001b[38;5;28;01mimport\u001b[39;00m RandomOverSampler, SMOTE \u001b[38;5;66;03m# oversampling\u001b[39;00m\n",
      "\u001b[1;31mModuleNotFoundError\u001b[0m: No module named 'category_encoders'"
     ]
    }
   ],
   "source": [
    "# Manpulate\n",
    "import numpy as np\n",
    "import pandas as pd\n",
    "\n",
    "# Visualization\n",
    "import seaborn as sns\n",
    "import matplotlib.pyplot as plt\n",
    "import plotly.express as px\n",
    "\n",
    "# Feature Extraction\n",
    "import user_agents # get info from user_agent (browser_info)\n",
    "from ip2geotools.databases.noncommercial import DbIpCity as ip2geo # get location from ip\n",
    "from geopy.distance import great_circle # distance btn 2 (lat,long)\n",
    "from geopy.geocoders import Nominatim # geocode(\"place\") / reverse(\"lat,long\")\n",
    "from sklearn.feature_extraction.text import CountVectorizer, TfidfVectorizer # text feature\n",
    "\n",
    "# Pre-Processing\n",
    "from sklearn.model_selection import train_test_split # train-test-split\n",
    "from sklearn.impute import SimpleImputer, KNNImputer # detect & handle NaNs\n",
    "from sklearn.preprocessing import OrdinalEncoder, LabelEncoder, OneHotEncoder # Ordinal Encoding, Nominal Encoding\n",
    "from category_encoders import BinaryEncoder # Nominal Encoding \n",
    "from imblearn.under_sampling import RandomUnderSampler # undersampling\n",
    "from imblearn.over_sampling import RandomOverSampler, SMOTE # oversampling\n",
    "from sklearn.preprocessing import StandardScaler, MinMaxScaler, RobustScaler # Scaling\n",
    "\n",
    "# Modeling\n",
    "## 1) Pipeline\n",
    "from sklearn.pipeline import Pipeline, make_pipeline # to make pipeline\n",
    "from sklearn.compose import ColumnTransformer, make_column_transformer, make_column_selector # apply pipeline to each column\n",
    "\n",
    "## 2) Regression Models\n",
    "from sklearn.linear_model import LinearRegression # if data is small and small_no_features\n",
    "from sklearn.linear_model import SGDRegressor # if data is large: (can have penalty=constrains)\n",
    "from sklearn.preprocessing import PolynomialFeatures # for polynomial regresion (then apply scaling after it)\n",
    "from sklearn.linear_model import Lasso, LassoCV, Ridge, RidgeCV, ElasticNet, ElasticNetCV # Regularization \n",
    "\n",
    "## 3) Model Selection (Underfitting vs Overfitting) [bias variance tradeoff => perfect model complexity]\n",
    "from sklearn.model_selection import cross_val_score, GridSearchCV, RandomizedSearchCV # (Train - Valid - Test) + hyperparameters tunning \n",
    "from sklearn.experimental import enable_halving_search_cv\n",
    "from sklearn.model_selection import HalvingGridSearchCV, HalvingRandomSearchCV # if data / features is large\n",
    "from sklearn.metrics import r2_score, mean_squared_error, mean_absolute_error # Evaluate Model: r2=> accuracy, L2-norm: if no outliers, L1-norm: if outliers\n",
    "from scipy import stats # Confidence Interval of Accuracy / Loss / Utility\n",
    "import joblib # save model"
   ]
  },
  {
   "cell_type": "code",
   "execution_count": null,
   "id": "1eda5018",
   "metadata": {
    "papermill": {
     "duration": 0.78125,
     "end_time": "2024-10-09T01:12:53.637377",
     "exception": false,
     "start_time": "2024-10-09T01:12:52.856127",
     "status": "completed"
    },
    "tags": []
   },
   "outputs": [],
   "source": [
    "df = pd.read_csv(r\"C:\\Users\\sande\\Downloads\\archive (3)\\uber.csv\")\n",
    "df"
   ]
  },
  {
   "cell_type": "code",
   "execution_count": null,
   "id": "6751addf",
   "metadata": {
    "papermill": {
     "duration": 0.065003,
     "end_time": "2024-10-09T01:12:53.735479",
     "exception": false,
     "start_time": "2024-10-09T01:12:53.670476",
     "status": "completed"
    },
    "tags": []
   },
   "outputs": [],
   "source": [
    "# Understand Data\n",
    "df.drop([\"Unnamed: 0\", \"key\"], axis=1, inplace=True)\n",
    "df"
   ]
  },
  {
   "attachments": {
    "image-2.png": {
     "image/png": "[encoded data removed]"
    }
   },
   "cell_type": "markdown",
   "id": "ed5ad7d2",
   "metadata": {
    "papermill": {
     "duration": 0.032749,
     "end_time": "2024-10-09T01:12:53.801430",
     "exception": false,
     "start_time": "2024-10-09T01:12:53.768681",
     "status": "completed"
    },
    "tags": []
   },
   "source": [
    "![image-2.png](attachment:image-2.png)"
   ]
  },
  {
   "cell_type": "code",
   "execution_count": null,
   "id": "38f230bc",
   "metadata": {
    "papermill": {
     "duration": 0.070273,
     "end_time": "2024-10-09T01:12:53.904785",
     "exception": false,
     "start_time": "2024-10-09T01:12:53.834512",
     "status": "completed"
    },
    "tags": []
   },
   "outputs": [],
   "source": [
    "# check dtypes\n",
    "df.info()\n",
    "# pickup_datetime -> datetime"
   ]
  },
  {
   "cell_type": "code",
   "execution_count": null,
   "id": "31c84aa5",
   "metadata": {
    "papermill": {
     "duration": 2.44226,
     "end_time": "2024-10-09T01:12:56.381170",
     "exception": false,
     "start_time": "2024-10-09T01:12:53.938910",
     "status": "completed"
    },
    "tags": []
   },
   "outputs": [],
   "source": [
    "df['pickup_datetime'] = pd.to_datetime(df['pickup_datetime'])\n",
    "df['pickup_datetime']"
   ]
  },
  {
   "cell_type": "code",
   "execution_count": null,
   "id": "5e38be92",
   "metadata": {
    "papermill": {
     "duration": 0.098933,
     "end_time": "2024-10-09T01:12:56.513394",
     "exception": false,
     "start_time": "2024-10-09T01:12:56.414461",
     "status": "completed"
    },
    "tags": []
   },
   "outputs": [],
   "source": [
    "# Extract Features\n",
    "df['pickup_year'] = df['pickup_datetime'].dt.year\n",
    "df['pickup_month'] = df['pickup_datetime'].dt.month\n",
    "df['pickup_weekday'] = df['pickup_datetime'].dt.weekday\n",
    "df['pickup_hour'] = df['pickup_datetime'].dt.hour\n",
    "df"
   ]
  },
  {
   "cell_type": "code",
   "execution_count": null,
   "id": "1e366035",
   "metadata": {
    "papermill": {
     "duration": 0.112721,
     "end_time": "2024-10-09T01:12:56.660145",
     "exception": false,
     "start_time": "2024-10-09T01:12:56.547424",
     "status": "completed"
    },
    "tags": []
   },
   "outputs": [],
   "source": [
    "def get_season(arg): # month=1\n",
    "    if arg in [12, 1, 2]:\n",
    "        return \"Winter\"\n",
    "    elif arg in [3, 4, 5]:\n",
    "        return \"Spring\"\n",
    "    elif arg in [6, 7, 8]:\n",
    "        return \"Summer\"\n",
    "    else: # 9 10 11\n",
    "        return \"Autumn\"\n",
    "    \n",
    "df['pickup_season'] = df['pickup_month'].apply(get_season)\n",
    "df"
   ]
  },
  {
   "cell_type": "code",
   "execution_count": null,
   "id": "1a71fffe",
   "metadata": {
    "papermill": {
     "duration": 0.117261,
     "end_time": "2024-10-09T01:12:56.811799",
     "exception": false,
     "start_time": "2024-10-09T01:12:56.694538",
     "status": "completed"
    },
    "tags": []
   },
   "outputs": [],
   "source": [
    "def get_dayperiod(arg): # hour=1\n",
    "    if arg > 5 and arg < 12:\n",
    "        return \"Morning\"\n",
    "    elif arg >= 12 and arg < 17:\n",
    "        return \"Afternoon\"\n",
    "    elif arg >= 17 and arg < 22:\n",
    "        return \"Evenning\"\n",
    "    else: # 22 -> 5\n",
    "        return \"Night\"\n",
    "    \n",
    "df['pickup_period'] = df['pickup_hour'].apply(get_dayperiod)\n",
    "df"
   ]
  },
  {
   "cell_type": "code",
   "execution_count": null,
   "id": "b3b48c62",
   "metadata": {
    "papermill": {
     "duration": 0.154654,
     "end_time": "2024-10-09T01:12:57.053373",
     "exception": false,
     "start_time": "2024-10-09T01:12:56.898719",
     "status": "completed"
    },
    "tags": []
   },
   "outputs": [],
   "source": [
    "# describe num\n",
    "df.describe()\n",
    "# fare_amout < 0? & fare_amount == 499?\n",
    "# longitude: -180 -> 180\n",
    "# lat: -90 -> 90\n",
    "# passenger_count = 0? & passenger_count = 208?"
   ]
  },
  {
   "cell_type": "code",
   "execution_count": null,
   "id": "d2d9afbb",
   "metadata": {
    "papermill": {
     "duration": 0.060844,
     "end_time": "2024-10-09T01:12:57.149183",
     "exception": false,
     "start_time": "2024-10-09T01:12:57.088339",
     "status": "completed"
    },
    "tags": []
   },
   "outputs": [],
   "source": [
    "# Fare_amount <= 0\n",
    "df[df['fare_amount'] <= 0]"
   ]
  },
  {
   "cell_type": "code",
   "execution_count": null,
   "id": "6d1c944c",
   "metadata": {
    "papermill": {
     "duration": 0.089431,
     "end_time": "2024-10-09T01:12:57.274674",
     "exception": false,
     "start_time": "2024-10-09T01:12:57.185243",
     "status": "completed"
    },
    "tags": []
   },
   "outputs": [],
   "source": [
    "drop_fare_indices = df[df['fare_amount'] <= 0].index\n",
    "df.drop(drop_fare_indices, axis=0, inplace=True)\n",
    "df.reset_index(inplace=True, drop=True)\n",
    "df"
   ]
  },
  {
   "cell_type": "code",
   "execution_count": null,
   "id": "08ca3ff4",
   "metadata": {
    "papermill": {
     "duration": 0.043946,
     "end_time": "2024-10-09T01:12:57.355363",
     "exception": false,
     "start_time": "2024-10-09T01:12:57.311417",
     "status": "completed"
    },
    "tags": []
   },
   "outputs": [],
   "source": [
    "# longitude: btn -180 -> 180\n",
    "# latitude: btn -90 -> 90\n",
    "# passenger_count = 208 and min=0?"
   ]
  },
  {
   "cell_type": "code",
   "execution_count": null,
   "id": "bf27d086",
   "metadata": {
    "papermill": {
     "duration": 0.074819,
     "end_time": "2024-10-09T01:12:57.467069",
     "exception": false,
     "start_time": "2024-10-09T01:12:57.392250",
     "status": "completed"
    },
    "tags": []
   },
   "outputs": [],
   "source": [
    "df[(df['pickup_longitude'] >= -180) & (df['pickup_longitude'] <= 180)]"
   ]
  },
  {
   "cell_type": "code",
   "execution_count": null,
   "id": "5278c13c",
   "metadata": {
    "papermill": {
     "duration": 0.089376,
     "end_time": "2024-10-09T01:12:57.593266",
     "exception": false,
     "start_time": "2024-10-09T01:12:57.503890",
     "status": "completed"
    },
    "tags": []
   },
   "outputs": [],
   "source": [
    "# longitude: btn -180 -> 180\n",
    "# latitude: btn -90 -> 90\n",
    "\n",
    "df = df[\n",
    "    (df['pickup_longitude'] >= -180) & (df['pickup_longitude'] <= 180)\n",
    "    &\n",
    "    (df['dropoff_longitude'] >= -180) & (df['dropoff_longitude'] <= 180)\n",
    "    &\n",
    "    (df['pickup_latitude'] >= -90) & (df['pickup_latitude'] <= 90)\n",
    "    &\n",
    "    (df['dropoff_latitude'] >= -90) & (df['dropoff_latitude'] <= 90)\n",
    "    ]\n",
    "df"
   ]
  },
  {
   "cell_type": "code",
   "execution_count": null,
   "id": "22aea094",
   "metadata": {
    "papermill": {
     "duration": 0.050333,
     "end_time": "2024-10-09T01:12:57.682175",
     "exception": false,
     "start_time": "2024-10-09T01:12:57.631842",
     "status": "completed"
    },
    "tags": []
   },
   "outputs": [],
   "source": [
    "# passenger_count = 208?\n",
    "\n",
    "df['passenger_count'].unique()"
   ]
  },
  {
   "cell_type": "code",
   "execution_count": null,
   "id": "51520a4b",
   "metadata": {
    "papermill": {
     "duration": 0.057107,
     "end_time": "2024-10-09T01:12:57.777119",
     "exception": false,
     "start_time": "2024-10-09T01:12:57.720012",
     "status": "completed"
    },
    "tags": []
   },
   "outputs": [],
   "source": [
    "df[df['passenger_count'] > 6]"
   ]
  },
  {
   "cell_type": "code",
   "execution_count": null,
   "id": "c79f1dd0",
   "metadata": {
    "papermill": {
     "duration": 0.101036,
     "end_time": "2024-10-09T01:12:57.916118",
     "exception": false,
     "start_time": "2024-10-09T01:12:57.815082",
     "status": "completed"
    },
    "tags": []
   },
   "outputs": [],
   "source": [
    "drop_count_index = df[df['passenger_count'] > 6].index\n",
    "df.drop(drop_count_index, axis=0, inplace=True)\n",
    "df.reset_index(inplace=True, drop=True)\n",
    "df"
   ]
  },
  {
   "cell_type": "code",
   "execution_count": null,
   "id": "3d5b2217",
   "metadata": {
    "papermill": {
     "duration": 0.0651,
     "end_time": "2024-10-09T01:12:58.019805",
     "exception": false,
     "start_time": "2024-10-09T01:12:57.954705",
     "status": "completed"
    },
    "tags": []
   },
   "outputs": [],
   "source": [
    "# passenger_count = 0?\n",
    "df[df['passenger_count'] <= 0]"
   ]
  },
  {
   "cell_type": "code",
   "execution_count": null,
   "id": "6d9859e0",
   "metadata": {
    "papermill": {
     "duration": 0.086062,
     "end_time": "2024-10-09T01:12:58.145254",
     "exception": false,
     "start_time": "2024-10-09T01:12:58.059192",
     "status": "completed"
    },
    "tags": []
   },
   "outputs": [],
   "source": [
    "drop_count_index = df[df['passenger_count'] <= 0].index\n",
    "df.drop(drop_count_index, axis=0, inplace=True)\n",
    "df.reset_index(inplace=True, drop=True)\n",
    "df"
   ]
  },
  {
   "cell_type": "code",
   "execution_count": null,
   "id": "553da3fd",
   "metadata": {
    "papermill": {
     "duration": 0.147791,
     "end_time": "2024-10-09T01:12:58.333225",
     "exception": false,
     "start_time": "2024-10-09T01:12:58.185434",
     "status": "completed"
    },
    "tags": []
   },
   "outputs": [],
   "source": [
    "df.describe()"
   ]
  },
  {
   "cell_type": "code",
   "execution_count": null,
   "id": "b2eb84f0",
   "metadata": {
    "papermill": {
     "duration": 0.060375,
     "end_time": "2024-10-09T01:12:58.433819",
     "exception": false,
     "start_time": "2024-10-09T01:12:58.373444",
     "status": "completed"
    },
    "tags": []
   },
   "outputs": [],
   "source": [
    "df[df['fare_amount'] < 1] # see distance"
   ]
  },
  {
   "cell_type": "code",
   "execution_count": null,
   "id": "4613a09f",
   "metadata": {
    "papermill": {
     "duration": 0.108628,
     "end_time": "2024-10-09T01:12:58.582719",
     "exception": false,
     "start_time": "2024-10-09T01:12:58.474091",
     "status": "completed"
    },
    "tags": []
   },
   "outputs": [],
   "source": [
    "# cat_describe\n",
    "cat_cols = df.select_dtypes(include=\"O\").columns\n",
    "for col in cat_cols:\n",
    "    print(f\"number of uniques of \\'{col}\\' is: {df[col].nunique()}\")\n",
    "    print(f\"uniques of \\'{col}\\' is:\\n{df[col].unique()}\")\n",
    "    print()\n",
    "    print('*' * 50)\n",
    "    print()"
   ]
  },
  {
   "cell_type": "code",
   "execution_count": null,
   "id": "51e8f126",
   "metadata": {
    "papermill": {
     "duration": 0.071584,
     "end_time": "2024-10-09T01:12:58.695840",
     "exception": false,
     "start_time": "2024-10-09T01:12:58.624256",
     "status": "completed"
    },
    "tags": []
   },
   "outputs": [],
   "source": [
    "for col in cat_cols:\n",
    "    print(f\"count of uniques of \\'{col}\\' is:\\n{df[col].value_counts()}\")\n",
    "    print()\n",
    "    print('*' * 50)\n",
    "    print()"
   ]
  },
  {
   "cell_type": "markdown",
   "id": "0d57c11b",
   "metadata": {
    "papermill": {
     "duration": 0.041329,
     "end_time": "2024-10-09T01:12:58.777506",
     "exception": false,
     "start_time": "2024-10-09T01:12:58.736177",
     "status": "completed"
    },
    "tags": []
   },
   "source": [
    "# Extract Features + EDA"
   ]
  },
  {
   "cell_type": "code",
   "execution_count": null,
   "id": "98cbdd02",
   "metadata": {
    "papermill": {
     "duration": 0.063738,
     "end_time": "2024-10-09T01:12:58.881824",
     "exception": false,
     "start_time": "2024-10-09T01:12:58.818086",
     "status": "completed"
    },
    "tags": []
   },
   "outputs": [],
   "source": [
    "df"
   ]
  },
  {
   "cell_type": "code",
   "execution_count": null,
   "id": "9bd74deb",
   "metadata": {
    "papermill": {
     "duration": 0.052826,
     "end_time": "2024-10-09T01:12:58.975752",
     "exception": false,
     "start_time": "2024-10-09T01:12:58.922926",
     "status": "completed"
    },
    "tags": []
   },
   "outputs": [],
   "source": [
    "location_1 = (\"40.738354\", \"-73.999817\") # (lat, lon)\n",
    "location_2 = (\"40.723217\", \"-73.999512\") # (lat, lat)\n",
    "great_circle(location_1, location_2).km"
   ]
  },
  {
   "cell_type": "code",
   "execution_count": null,
   "id": "37af83c7",
   "metadata": {
    "papermill": {
     "duration": 7.113656,
     "end_time": "2024-10-09T01:13:06.130967",
     "exception": false,
     "start_time": "2024-10-09T01:12:59.017311",
     "status": "completed"
    },
    "tags": []
   },
   "outputs": [],
   "source": [
    "# Extract Features: (distance - pickupcity - dropoffcity)\n",
    "def get_distance(row):\n",
    "    location_1 = (row['pickup_latitude'], row['pickup_longitude'])\n",
    "    location_2 = (row['dropoff_latitude'], row['dropoff_longitude'])\n",
    "    return great_circle(location_1, location_2).km # (lat, lon)\n",
    "\n",
    "df['distance'] = df.apply(get_distance, axis=1)\n",
    "df['distance']"
   ]
  },
  {
   "cell_type": "markdown",
   "id": "25459ce3",
   "metadata": {
    "papermill": {
     "duration": 0.040686,
     "end_time": "2024-10-09T01:13:06.213322",
     "exception": false,
     "start_time": "2024-10-09T01:13:06.172636",
     "status": "completed"
    },
    "tags": []
   },
   "source": [
    "## Calculate the distance between the pickup and drop co-ordinates using the Haversine formual for accuracy\n",
    "![image.png](data:image/png;base64,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)"
   ]
  },
  {
   "cell_type": "code",
   "execution_count": null,
   "id": "f37d84e6",
   "metadata": {
    "papermill": {
     "duration": 0.050755,
     "end_time": "2024-10-09T01:13:06.305337",
     "exception": false,
     "start_time": "2024-10-09T01:13:06.254582",
     "status": "completed"
    },
    "tags": []
   },
   "outputs": [],
   "source": [
    "def haversine_distance(lon_1, lon_2, lat_1, lat_2):\n",
    "    \n",
    "    lon_1, lon_2, lat_1, lat_2 = map(np.radians, [lon_1, lon_2, lat_1, lat_2])  #Degrees to Radians\n",
    "    \n",
    "    \n",
    "    diff_lon = lon_2 - lon_1\n",
    "    diff_lat = lat_2 - lat_1\n",
    "    \n",
    "\n",
    "    km = 2 * 6371 * np.arcsin(np.sqrt(np.sin(diff_lat/2.0)**2 + np.cos(lat_1) * np.cos(lat_2) * np.sin(diff_lon/2.0)**2))\n",
    "    \n",
    "    return km"
   ]
  },
  {
   "cell_type": "code",
   "execution_count": null,
   "id": "4826e269",
   "metadata": {
    "papermill": {
     "duration": 0.070337,
     "end_time": "2024-10-09T01:13:06.416490",
     "exception": false,
     "start_time": "2024-10-09T01:13:06.346153",
     "status": "completed"
    },
    "tags": []
   },
   "outputs": [],
   "source": [
    "df['haversine_distance'] = haversine_distance(df['pickup_longitude'],df['dropoff_longitude'], df['pickup_latitude'],df['dropoff_latitude'])\n",
    "df['haversine_distance'] # not so accuracte as Radius of eath is now 6378.009 so we will drop it "
   ]
  },
  {
   "cell_type": "code",
   "execution_count": null,
   "id": "0240fc9a",
   "metadata": {
    "papermill": {
     "duration": 0.056713,
     "end_time": "2024-10-09T01:13:06.514266",
     "exception": false,
     "start_time": "2024-10-09T01:13:06.457553",
     "status": "completed"
    },
    "tags": []
   },
   "outputs": [],
   "source": [
    "df[['distance', 'haversine_distance']]"
   ]
  },
  {
   "cell_type": "code",
   "execution_count": null,
   "id": "f24cd7bb",
   "metadata": {
    "papermill": {
     "duration": 0.062635,
     "end_time": "2024-10-09T01:13:06.618233",
     "exception": false,
     "start_time": "2024-10-09T01:13:06.555598",
     "status": "completed"
    },
    "tags": []
   },
   "outputs": [],
   "source": [
    "((df['distance'] - df['haversine_distance']) * 1000).describe() # distance in meters"
   ]
  },
  {
   "cell_type": "code",
   "execution_count": null,
   "id": "5f52da91",
   "metadata": {
    "papermill": {
     "duration": 0.062428,
     "end_time": "2024-10-09T01:13:06.723494",
     "exception": false,
     "start_time": "2024-10-09T01:13:06.661066",
     "status": "completed"
    },
    "tags": []
   },
   "outputs": [],
   "source": [
    "df['distance'].describe() # it doesnt matter on the scale of the data, so lets try modeling useing distance first then try 'haversine_distance'\n",
    "# why s distance 8782 km??\n",
    "# why s distance 0 km??"
   ]
  },
  {
   "cell_type": "code",
   "execution_count": null,
   "id": "4007fb61",
   "metadata": {
    "papermill": {
     "duration": 1.016911,
     "end_time": "2024-10-09T01:13:07.782276",
     "exception": false,
     "start_time": "2024-10-09T01:13:06.765365",
     "status": "completed"
    },
    "tags": []
   },
   "outputs": [],
   "source": [
    "sns.scatterplot(x=df['distance'], y=df['fare_amount'])\n",
    "plt.xlim([0, 100])"
   ]
  },
  {
   "cell_type": "code",
   "execution_count": null,
   "id": "567ad29c",
   "metadata": {
    "papermill": {
     "duration": 0.06877,
     "end_time": "2024-10-09T01:13:07.893621",
     "exception": false,
     "start_time": "2024-10-09T01:13:07.824851",
     "status": "completed"
    },
    "tags": []
   },
   "outputs": [],
   "source": [
    "# why s distance 8782 km??\n",
    "\n",
    "df[df['distance'] > 600] # there is alot of noise / wrong data from sensors reading\n",
    "# (we have to handle them before sending it to ml)"
   ]
  },
  {
   "cell_type": "code",
   "execution_count": null,
   "id": "162a7b5e",
   "metadata": {
    "papermill": {
     "duration": 0.06829,
     "end_time": "2024-10-09T01:13:08.005071",
     "exception": false,
     "start_time": "2024-10-09T01:13:07.936781",
     "status": "completed"
    },
    "tags": []
   },
   "outputs": [],
   "source": [
    "# is distances btn 35 -> 45km have resonable fare_amount?\n",
    "df[(df['distance'] > 35) & (df['distance'] < 45)]"
   ]
  },
  {
   "cell_type": "code",
   "execution_count": null,
   "id": "c6d7cbe4",
   "metadata": {
    "papermill": {
     "duration": 0.067599,
     "end_time": "2024-10-09T01:13:08.116560",
     "exception": false,
     "start_time": "2024-10-09T01:13:08.048961",
     "status": "completed"
    },
    "tags": []
   },
   "outputs": [],
   "source": [
    "# distance > 60 km doesnt have meaningfull fare_amount so drop them\n",
    "df[df['distance'] > 60] # 477 rows are nothing"
   ]
  },
  {
   "cell_type": "code",
   "execution_count": null,
   "id": "76e4fc0e",
   "metadata": {
    "papermill": {
     "duration": 0.100453,
     "end_time": "2024-10-09T01:13:08.261252",
     "exception": false,
     "start_time": "2024-10-09T01:13:08.160799",
     "status": "completed"
    },
    "tags": []
   },
   "outputs": [],
   "source": [
    "indices = df[df['distance'] > 60].index # 477 rows are nothing\n",
    "df.drop(indices, axis=0, inplace=True)\n",
    "df.reset_index(drop=True, inplace=True)\n",
    "df"
   ]
  },
  {
   "cell_type": "code",
   "execution_count": null,
   "id": "7e77643d",
   "metadata": {
    "papermill": {
     "duration": 0.073354,
     "end_time": "2024-10-09T01:13:08.379177",
     "exception": false,
     "start_time": "2024-10-09T01:13:08.305823",
     "status": "completed"
    },
    "tags": []
   },
   "outputs": [],
   "source": [
    "# distance = 0?\n",
    "df[df['distance'] == 0] # 5k from 200k data and wrong values then remove them"
   ]
  },
  {
   "cell_type": "code",
   "execution_count": null,
   "id": "73e0179c",
   "metadata": {
    "papermill": {
     "duration": 0.096177,
     "end_time": "2024-10-09T01:13:08.520765",
     "exception": false,
     "start_time": "2024-10-09T01:13:08.424588",
     "status": "completed"
    },
    "tags": []
   },
   "outputs": [],
   "source": [
    "indices = df[df['distance'] == 0].index\n",
    "df.drop(indices, axis=0, inplace=True)\n",
    "df.reset_index(drop=True, inplace=True)\n",
    "df"
   ]
  },
  {
   "cell_type": "code",
   "execution_count": null,
   "id": "af3bf942",
   "metadata": {
    "papermill": {
     "duration": 0.170764,
     "end_time": "2024-10-09T01:13:08.737255",
     "exception": false,
     "start_time": "2024-10-09T01:13:08.566491",
     "status": "completed"
    },
    "tags": []
   },
   "outputs": [],
   "source": [
    "df.describe()"
   ]
  },
  {
   "cell_type": "markdown",
   "id": "6f5e9c22",
   "metadata": {
    "papermill": {
     "duration": 0.045215,
     "end_time": "2024-10-09T01:13:08.828222",
     "exception": false,
     "start_time": "2024-10-09T01:13:08.783007",
     "status": "completed"
    },
    "tags": []
   },
   "source": [
    "* Drop Large Fare with Small Distance\n",
    "\n",
    "* Drop Small Fare with Large Distance"
   ]
  },
  {
   "cell_type": "code",
   "execution_count": null,
   "id": "0e66b7a6",
   "metadata": {
    "papermill": {
     "duration": 0.066561,
     "end_time": "2024-10-09T01:13:08.940426",
     "exception": false,
     "start_time": "2024-10-09T01:13:08.873865",
     "status": "completed"
    },
    "tags": []
   },
   "outputs": [],
   "source": [
    "# fare < 1?\n",
    "df[df['fare_amount'] <= 1]"
   ]
  },
  {
   "cell_type": "code",
   "execution_count": null,
   "id": "3bdb7fb1",
   "metadata": {
    "papermill": {
     "duration": 0.066091,
     "end_time": "2024-10-09T01:13:09.052479",
     "exception": false,
     "start_time": "2024-10-09T01:13:08.986388",
     "status": "completed"
    },
    "tags": []
   },
   "outputs": [],
   "source": [
    "df[(df['fare_amount'] < 1) & (df['distance'] > 1)]"
   ]
  },
  {
   "cell_type": "code",
   "execution_count": null,
   "id": "b549f929",
   "metadata": {
    "papermill": {
     "duration": 0.097721,
     "end_time": "2024-10-09T01:13:09.196385",
     "exception": false,
     "start_time": "2024-10-09T01:13:09.098664",
     "status": "completed"
    },
    "tags": []
   },
   "outputs": [],
   "source": [
    "indices = df[(df['fare_amount'] < 1) & (df['distance'] > 1)].index\n",
    "df.drop(indices, axis=0, inplace=True)\n",
    "df.reset_index(drop=True, inplace=True)\n",
    "df"
   ]
  },
  {
   "cell_type": "code",
   "execution_count": null,
   "id": "24bf53c4",
   "metadata": {
    "papermill": {
     "duration": 0.075289,
     "end_time": "2024-10-09T01:13:09.318745",
     "exception": false,
     "start_time": "2024-10-09T01:13:09.243456",
     "status": "completed"
    },
    "tags": []
   },
   "outputs": [],
   "source": [
    "df[(df['fare_amount'] > 100) & (df['distance'] < 1)] # drop them"
   ]
  },
  {
   "cell_type": "code",
   "execution_count": null,
   "id": "75476709",
   "metadata": {
    "papermill": {
     "duration": 0.096855,
     "end_time": "2024-10-09T01:13:09.462861",
     "exception": false,
     "start_time": "2024-10-09T01:13:09.366006",
     "status": "completed"
    },
    "tags": []
   },
   "outputs": [],
   "source": [
    "indices = df[(df['fare_amount'] > 100) & (df['distance'] < 1)].index\n",
    "df.drop(indices, axis=0, inplace=True)\n",
    "df.reset_index(drop=True, inplace=True)\n",
    "df"
   ]
  },
  {
   "cell_type": "code",
   "execution_count": null,
   "id": "e7b8963a",
   "metadata": {
    "papermill": {
     "duration": 0.165928,
     "end_time": "2024-10-09T01:13:09.676523",
     "exception": false,
     "start_time": "2024-10-09T01:13:09.510595",
     "status": "completed"
    },
    "tags": []
   },
   "outputs": [],
   "source": [
    "df.describe()"
   ]
  },
  {
   "cell_type": "code",
   "execution_count": null,
   "id": "b1742891",
   "metadata": {
    "papermill": {
     "duration": 0.07216,
     "end_time": "2024-10-09T01:13:09.797820",
     "exception": false,
     "start_time": "2024-10-09T01:13:09.725660",
     "status": "completed"
    },
    "tags": []
   },
   "outputs": [],
   "source": [
    "df"
   ]
  },
  {
   "cell_type": "code",
   "execution_count": null,
   "id": "42bc56d1",
   "metadata": {
    "papermill": {
     "duration": 0.933993,
     "end_time": "2024-10-09T01:13:10.780670",
     "exception": false,
     "start_time": "2024-10-09T01:13:09.846677",
     "status": "completed"
    },
    "tags": []
   },
   "outputs": [],
   "source": [
    "# Extract location name features\n",
    "geocoder = Nominatim(user_agent=\"Get city\") # lat, lon\n",
    "result = geocoder.reverse(\"40.740770,-74.005043\")\n",
    "result"
   ]
  },
  {
   "cell_type": "code",
   "execution_count": null,
   "id": "cc5cab4f",
   "metadata": {
    "papermill": {
     "duration": 0.059156,
     "end_time": "2024-10-09T01:13:10.889591",
     "exception": false,
     "start_time": "2024-10-09T01:13:10.830435",
     "status": "completed"
    },
    "tags": []
   },
   "outputs": [],
   "source": [
    "result.raw"
   ]
  },
  {
   "cell_type": "code",
   "execution_count": null,
   "id": "59552f9b",
   "metadata": {
    "papermill": {
     "duration": 0.33804,
     "end_time": "2024-10-09T01:13:11.276590",
     "exception": false,
     "start_time": "2024-10-09T01:13:10.938550",
     "status": "completed"
    },
    "tags": []
   },
   "outputs": [],
   "source": [
    "result = geocoder.reverse(\"40.73854,-73.999817\")\n",
    "result.raw"
   ]
  },
  {
   "cell_type": "code",
   "execution_count": null,
   "id": "3be4bd91",
   "metadata": {
    "papermill": {
     "duration": 0.982832,
     "end_time": "2024-10-09T01:13:12.309559",
     "exception": false,
     "start_time": "2024-10-09T01:13:11.326727",
     "status": "completed"
    },
    "tags": []
   },
   "outputs": [],
   "source": [
    "sns.scatterplot(x=df['pickup_longitude'], y=df['pickup_latitude'])"
   ]
  },
  {
   "cell_type": "code",
   "execution_count": null,
   "id": "00ac2649",
   "metadata": {
    "papermill": {
     "duration": 0.347759,
     "end_time": "2024-10-09T01:13:12.708150",
     "exception": false,
     "start_time": "2024-10-09T01:13:12.360391",
     "status": "completed"
    },
    "tags": []
   },
   "outputs": [],
   "source": [
    "sns.scatterplot(x=df['pickup_longitude'], y=df['pickup_latitude']) # Antarctica\n",
    "plt.xlim([40, 42])\n",
    "plt.ylim([-72, -75])"
   ]
  },
  {
   "cell_type": "code",
   "execution_count": null,
   "id": "36396299",
   "metadata": {
    "papermill": {
     "duration": 0.076937,
     "end_time": "2024-10-09T01:13:12.836918",
     "exception": false,
     "start_time": "2024-10-09T01:13:12.759981",
     "status": "completed"
    },
    "tags": []
   },
   "outputs": [],
   "source": [
    "df[(df['pickup_longitude'] > 40) & (df['pickup_longitude'] < 42) & (df['pickup_latitude'] > -75) & (df['pickup_latitude'] < -73)]"
   ]
  },
  {
   "cell_type": "code",
   "execution_count": null,
   "id": "701f0739",
   "metadata": {
    "papermill": {
     "duration": 0.27741,
     "end_time": "2024-10-09T01:13:13.165221",
     "exception": false,
     "start_time": "2024-10-09T01:13:12.887811",
     "status": "completed"
    },
    "tags": []
   },
   "outputs": [],
   "source": [
    "lat = -73.982127\t\t\t\t\t\n",
    "lon = 40.746760\t\n",
    "result = geocoder.reverse(f\"{lat}, {lon}\") # at Antarctica\t??!!!\n",
    "result"
   ]
  },
  {
   "cell_type": "code",
   "execution_count": null,
   "id": "31b7e1d9",
   "metadata": {
    "papermill": {
     "duration": 0.336705,
     "end_time": "2024-10-09T01:13:13.552755",
     "exception": false,
     "start_time": "2024-10-09T01:13:13.216050",
     "status": "completed"
    },
    "tags": []
   },
   "outputs": [],
   "source": [
    "sns.scatterplot(x=df['pickup_longitude'], y=df['pickup_latitude'])\n",
    "plt.xlim([-1, 1])\n",
    "plt.ylim([-1, 1])"
   ]
  },
  {
   "cell_type": "code",
   "execution_count": null,
   "id": "bc18b878",
   "metadata": {
    "papermill": {
     "duration": 0.079042,
     "end_time": "2024-10-09T01:13:13.683579",
     "exception": false,
     "start_time": "2024-10-09T01:13:13.604537",
     "status": "completed"
    },
    "tags": []
   },
   "outputs": [],
   "source": [
    "df[(df['pickup_latitude'] > -1) & (df['pickup_latitude'] < 1) & (df['pickup_longitude'] > -1) & (df['pickup_longitude'] < 1)]"
   ]
  },
  {
   "cell_type": "code",
   "execution_count": null,
   "id": "928b0783",
   "metadata": {
    "papermill": {
     "duration": 0.305896,
     "end_time": "2024-10-09T01:13:14.042308",
     "exception": false,
     "start_time": "2024-10-09T01:13:13.736412",
     "status": "completed"
    },
    "tags": []
   },
   "outputs": [],
   "source": [
    "lat = 0.007380\t\t\n",
    "lon = 0.001782\t\t\n",
    "result = geocoder.reverse(f\"{lat}, {lon}\") # at atlantic ocean ?!!\n",
    "result"
   ]
  },
  {
   "cell_type": "code",
   "execution_count": null,
   "id": "96b94d0b",
   "metadata": {
    "papermill": {
     "duration": 0.259259,
     "end_time": "2024-10-09T01:13:14.353831",
     "exception": false,
     "start_time": "2024-10-09T01:13:14.094572",
     "status": "completed"
    },
    "tags": []
   },
   "outputs": [],
   "source": [
    "# to read images\n",
    "import cv2\n",
    "img = cv2.imread(\"new_york_city.png\") # numpy array\n",
    "type(img)"
   ]
  },
  {
   "cell_type": "code",
   "execution_count": null,
   "id": "6e015e3a",
   "metadata": {
    "papermill": {
     "duration": 0.882309,
     "end_time": "2024-10-09T01:13:15.288379",
     "exception": false,
     "start_time": "2024-10-09T01:13:14.406070",
     "status": "completed"
    },
    "tags": []
   },
   "outputs": [],
   "source": [
    "import cv2\n",
    "img = cv2.imread(\"/kaggle/input/images/new_york_city.png\") # numpy array\n",
    "img = cv2.cvtColor(img, cv2.COLOR_BGR2RGB) \n",
    "plt.imshow(img, extent=[-75, -73, 39, 42], aspect='auto')\n",
    "\n",
    "sns.scatterplot(x=df['pickup_longitude'], y=df['pickup_latitude']) # data is from 3 countries lets get city and country level\n",
    "plt.xlim([-75, -73])\n",
    "plt.ylim([39, 42])\n",
    "plt.show()"
   ]
  },
  {
   "cell_type": "code",
   "execution_count": null,
   "id": "84714a35",
   "metadata": {
    "papermill": {
     "duration": 1.205562,
     "end_time": "2024-10-09T01:13:16.552771",
     "exception": false,
     "start_time": "2024-10-09T01:13:15.347209",
     "status": "completed"
    },
    "tags": []
   },
   "outputs": [],
   "source": [
    "import cv2\n",
    "img = cv2.imread(\"/kaggle/input/images/new_york_city.png\") # numpy array\n",
    "img = cv2.cvtColor(img, cv2.COLOR_BGR2RGB) \n",
    "plt.imshow(img, extent=[-75, -73, 39, 42], aspect='auto')\n",
    "\n",
    "sns.scatterplot(x=df['pickup_longitude'], y=df['pickup_latitude'], alpha=0.1) # data is from 3 countries lets get city and country level\n",
    "plt.xlim([-75, -73])\n",
    "plt.ylim([40, 41])"
   ]
  },
  {
   "cell_type": "code",
   "execution_count": null,
   "id": "9fc4e098",
   "metadata": {
    "papermill": {
     "duration": 0.15091,
     "end_time": "2024-10-09T01:13:16.766274",
     "exception": false,
     "start_time": "2024-10-09T01:13:16.615364",
     "status": "completed"
    },
    "tags": []
   },
   "outputs": [],
   "source": [
    "# remove those wrong places\n",
    "antercatica_indices = df[(df['pickup_longitude'] > 40) & (df['pickup_longitude'] < 42) & (df['pickup_latitude'] > -75) & (df['pickup_latitude'] < -73)].index\n",
    "ocean_indices = df[(df['pickup_latitude'] > -1) & (df['pickup_latitude'] < 1) & (df['pickup_longitude'] > -1) & (df['pickup_longitude'] < 1)].index\n",
    "\n",
    "df.drop(antercatica_indices, axis=0, inplace=True)\n",
    "df.drop(ocean_indices, axis=0, inplace=True)\n",
    "df.reset_index(drop=True, inplace=True)\n",
    "df"
   ]
  },
  {
   "cell_type": "code",
   "execution_count": null,
   "id": "873f9fef",
   "metadata": {
    "papermill": {
     "duration": 0.084412,
     "end_time": "2024-10-09T01:13:16.911336",
     "exception": false,
     "start_time": "2024-10-09T01:13:16.826924",
     "status": "completed"
    },
    "tags": []
   },
   "outputs": [],
   "source": [
    "geocoder = Nominatim(user_agent=\"Get city\") # lat, lon\n",
    "\n",
    "def get_pickup_location(row):\n",
    "    result = geocoder.reverse(f\"{row['pickup_latitude']},{row['pickup_longitude']}\")\n",
    "    adress_type = None\n",
    "    # country = None\n",
    "    if type(result) != type(None):\n",
    "        result = result.raw\n",
    "        adress_type = result['addresstype']\n",
    "        # country = result['address']['city']\n",
    "        print(adress_type)\n",
    "    return adress_type\n",
    "\n",
    "def get_dropoff_location(row):\n",
    "    result = geocoder.reverse(f\"{row['dropoff_latitude']},{row['dropoff_longitude']}\")\n",
    "    adress_type = None\n",
    "    # country = None\n",
    "    if type(result) != type(None):\n",
    "        result = result.raw\n",
    "        adress_type = result['addresstype']\n",
    "        # country = result['address']['country']\n",
    "        print(adress_type)\n",
    "    return adress_type\n",
    "\n",
    "## This step will take a long time so I skipped it on my pc, but try it if you have good network\n",
    "# df['pickup_adress_type'] = df.apply(get_pickup_location, axis=1)\n",
    "# df['dropoff_adress_type'] = df.apply(get_dropoff_location, axis=1)\n",
    "# df[['pickup_adress_type', 'dropoff_adress_type']]"
   ]
  },
  {
   "cell_type": "code",
   "execution_count": null,
   "id": "af323ca1",
   "metadata": {
    "papermill": {
     "duration": 0.191375,
     "end_time": "2024-10-09T01:13:17.163466",
     "exception": false,
     "start_time": "2024-10-09T01:13:16.972091",
     "status": "completed"
    },
    "tags": []
   },
   "outputs": [],
   "source": [
    "df.describe()"
   ]
  },
  {
   "cell_type": "markdown",
   "id": "ad04d0e7",
   "metadata": {
    "papermill": {
     "duration": 0.061143,
     "end_time": "2024-10-09T01:13:17.285992",
     "exception": false,
     "start_time": "2024-10-09T01:13:17.224849",
     "status": "completed"
    },
    "tags": []
   },
   "source": [
    "## EDA"
   ]
  },
  {
   "cell_type": "code",
   "execution_count": null,
   "id": "2073b448",
   "metadata": {
    "papermill": {
     "duration": 2.045825,
     "end_time": "2024-10-09T01:13:19.393368",
     "exception": false,
     "start_time": "2024-10-09T01:13:17.347543",
     "status": "completed"
    },
    "tags": []
   },
   "outputs": [],
   "source": [
    "df.hist()"
   ]
  },
  {
   "cell_type": "code",
   "execution_count": null,
   "id": "9a14a193",
   "metadata": {
    "papermill": {
     "duration": 0.083127,
     "end_time": "2024-10-09T01:13:19.541937",
     "exception": false,
     "start_time": "2024-10-09T01:13:19.458810",
     "status": "completed"
    },
    "tags": []
   },
   "outputs": [],
   "source": [
    "num_cols = df.select_dtypes(include='number').columns\n",
    "num_cols = num_cols.drop(['pickup_longitude', 'pickup_latitude', 'dropoff_longitude', 'dropoff_latitude'])\n",
    "num_cols"
   ]
  },
  {
   "cell_type": "code",
   "execution_count": null,
   "id": "164a67e3",
   "metadata": {
    "papermill": {
     "duration": 12.569654,
     "end_time": "2024-10-09T01:13:32.174492",
     "exception": false,
     "start_time": "2024-10-09T01:13:19.604838",
     "status": "completed"
    },
    "tags": []
   },
   "outputs": [],
   "source": [
    "for col in num_cols:\n",
    "    fig, axes = plt.subplots(nrows=1, ncols=2)\n",
    "    sns.histplot(df[col], kde=True, ax=axes[0])\n",
    "    sns.boxplot(df[col], ax=axes[1])\n",
    "    plt.show()"
   ]
  },
  {
   "cell_type": "code",
   "execution_count": null,
   "id": "48420674",
   "metadata": {
    "papermill": {
     "duration": 0.799316,
     "end_time": "2024-10-09T01:13:33.043709",
     "exception": false,
     "start_time": "2024-10-09T01:13:32.244393",
     "status": "completed"
    },
    "tags": []
   },
   "outputs": [],
   "source": [
    "has_outliers = ['pickup_longitude', 'pickup_latitude', 'dropoff_longitude', 'dropoff_latitude']\n",
    "for col in has_outliers:\n",
    "    sns.boxplot(x=df[col])\n",
    "    plt.show()"
   ]
  },
  {
   "cell_type": "code",
   "execution_count": null,
   "id": "dd33d613",
   "metadata": {
    "papermill": {
     "duration": 0.389057,
     "end_time": "2024-10-09T01:13:33.504680",
     "exception": false,
     "start_time": "2024-10-09T01:13:33.115623",
     "status": "completed"
    },
    "tags": []
   },
   "outputs": [],
   "source": [
    "cat_cols = df.select_dtypes(include='O').columns\n",
    "\n",
    "for col in cat_cols:\n",
    "    plt.figure(figsize=(10, 5))\n",
    "    if df[col].nunique() < 7:\n",
    "        dff = df.groupby(col)[['fare_amount']].count().reset_index().sort_values(by='fare_amount', ascending=False)\n",
    "        plt.pie(labels=dff[col], x=dff['fare_amount'], autopct=\"%1.1f%%\")\n",
    "    elif df[col].nunique() < 50:\n",
    "        sns.countplot(x=df[col])\n",
    "    else: # > 50 get top 10\n",
    "        dff = df.groupby(col)[['fare_amount']].count().reset_index().sort_values(by='fare_amount', ascending=False).head(10)\n",
    "        sns.countplot(x=dff[col])\n",
    "\n",
    "    plt.show()"
   ]
  },
  {
   "cell_type": "code",
   "execution_count": null,
   "id": "3e4550be",
   "metadata": {
    "papermill": {
     "duration": 1.056294,
     "end_time": "2024-10-09T01:13:34.659889",
     "exception": false,
     "start_time": "2024-10-09T01:13:33.603595",
     "status": "completed"
    },
    "tags": []
   },
   "outputs": [],
   "source": [
    "# bi-variate analysis\n",
    "plt.figure(figsize=(10, 10))\n",
    "sns.heatmap(df.select_dtypes(include='number').corr(), annot=True)\n",
    "plt.show()"
   ]
  },
  {
   "cell_type": "code",
   "execution_count": null,
   "id": "00fc3b42",
   "metadata": {
    "papermill": {
     "duration": 0.092876,
     "end_time": "2024-10-09T01:13:34.826679",
     "exception": false,
     "start_time": "2024-10-09T01:13:34.733803",
     "status": "completed"
    },
    "tags": []
   },
   "outputs": [],
   "source": [
    "dff = df.groupby(\"pickup_year\")[['fare_amount']].mean().reset_index().sort_values(by='pickup_year')\n",
    "dff"
   ]
  },
  {
   "cell_type": "code",
   "execution_count": null,
   "id": "1334ee32",
   "metadata": {
    "papermill": {
     "duration": 1.685416,
     "end_time": "2024-10-09T01:13:36.583901",
     "exception": false,
     "start_time": "2024-10-09T01:13:34.898485",
     "status": "completed"
    },
    "tags": []
   },
   "outputs": [],
   "source": [
    "# How Fare Change with time?\n",
    "px.line(x=dff['pickup_year'], y=dff['fare_amount'])"
   ]
  },
  {
   "cell_type": "code",
   "execution_count": null,
   "id": "b1f7ec5d",
   "metadata": {
    "papermill": {
     "duration": 1.56246,
     "end_time": "2024-10-09T01:13:38.218523",
     "exception": false,
     "start_time": "2024-10-09T01:13:36.656063",
     "status": "completed"
    },
    "tags": []
   },
   "outputs": [],
   "source": [
    "# which weekday have largest fare\n",
    "sns.barplot(x=df['pickup_weekday'], y=df['fare_amount'], estimator=np.mean)"
   ]
  },
  {
   "cell_type": "code",
   "execution_count": null,
   "id": "43849efc",
   "metadata": {
    "papermill": {
     "duration": 1.593807,
     "end_time": "2024-10-09T01:13:39.885287",
     "exception": false,
     "start_time": "2024-10-09T01:13:38.291480",
     "status": "completed"
    },
    "tags": []
   },
   "outputs": [],
   "source": [
    "sns.barplot(x=df['pickup_season'], y=df['fare_amount'], estimator=np.mean)"
   ]
  },
  {
   "cell_type": "code",
   "execution_count": null,
   "id": "3f3881b4",
   "metadata": {
    "papermill": {
     "duration": 1.63915,
     "end_time": "2024-10-09T01:13:41.600779",
     "exception": false,
     "start_time": "2024-10-09T01:13:39.961629",
     "status": "completed"
    },
    "tags": []
   },
   "outputs": [],
   "source": [
    "sns.barplot(x=df['pickup_period'], y=df['fare_amount'], estimator=np.mean)"
   ]
  },
  {
   "cell_type": "code",
   "execution_count": null,
   "id": "0df3f8b8",
   "metadata": {
    "papermill": {
     "duration": 1.997296,
     "end_time": "2024-10-09T01:13:43.672868",
     "exception": false,
     "start_time": "2024-10-09T01:13:41.675572",
     "status": "completed"
    },
    "tags": []
   },
   "outputs": [],
   "source": [
    "sns.barplot(x=df['pickup_hour'], y=df['fare_amount'], estimator=np.mean) # 5 AM is the highest fare"
   ]
  },
  {
   "cell_type": "code",
   "execution_count": null,
   "id": "192ab7ed",
   "metadata": {
    "papermill": {
     "duration": 0.958335,
     "end_time": "2024-10-09T01:13:44.707687",
     "exception": false,
     "start_time": "2024-10-09T01:13:43.749352",
     "status": "completed"
    },
    "tags": []
   },
   "outputs": [],
   "source": [
    "# is there correlation btn distance and fare\n",
    "sns.scatterplot(x=df['distance'], y=df['fare_amount'])"
   ]
  },
  {
   "cell_type": "code",
   "execution_count": null,
   "id": "a32aeb66",
   "metadata": {
    "papermill": {
     "duration": 11.082292,
     "end_time": "2024-10-09T01:13:55.868684",
     "exception": false,
     "start_time": "2024-10-09T01:13:44.786392",
     "status": "completed"
    },
    "tags": []
   },
   "outputs": [],
   "source": [
    "sns.scatterplot(x=df['distance'], y=df['fare_amount'], size=df['passenger_count'])"
   ]
  },
  {
   "cell_type": "code",
   "execution_count": null,
   "id": "d424014f",
   "metadata": {
    "papermill": {
     "duration": 0.085548,
     "end_time": "2024-10-09T01:13:56.034894",
     "exception": false,
     "start_time": "2024-10-09T01:13:55.949346",
     "status": "completed"
    },
    "tags": []
   },
   "outputs": [],
   "source": [
    "# more questions"
   ]
  },
  {
   "cell_type": "code",
   "execution_count": null,
   "id": "4ef62469",
   "metadata": {
    "papermill": {
     "duration": 61.740925,
     "end_time": "2024-10-09T01:14:57.853286",
     "exception": false,
     "start_time": "2024-10-09T01:13:56.112361",
     "status": "completed"
    },
    "tags": []
   },
   "outputs": [],
   "source": [
    "# Multivariate analysis\n",
    "num_cols = df.select_dtypes(include='number').columns\n",
    "num_cols = num_cols.drop(['pickup_longitude', 'pickup_latitude', 'dropoff_longitude', 'dropoff_latitude'])\n",
    "sns.pairplot(df[num_cols]) # un-corrleated features"
   ]
  },
  {
   "cell_type": "markdown",
   "id": "7e5f0f45",
   "metadata": {
    "papermill": {
     "duration": 0.091905,
     "end_time": "2024-10-09T01:14:58.041251",
     "exception": false,
     "start_time": "2024-10-09T01:14:57.949346",
     "status": "completed"
    },
    "tags": []
   },
   "source": [
    "# Pre-Processing"
   ]
  },
  {
   "cell_type": "code",
   "execution_count": null,
   "id": "88bb2541",
   "metadata": {
    "papermill": {
     "duration": 0.183567,
     "end_time": "2024-10-09T01:14:58.316997",
     "exception": false,
     "start_time": "2024-10-09T01:14:58.133430",
     "status": "completed"
    },
    "tags": []
   },
   "outputs": [],
   "source": [
    "# remove un-nessacry features\n",
    "df.drop([\"pickup_datetime\"], axis=1, inplace=True)\n",
    "df"
   ]
  },
  {
   "cell_type": "code",
   "execution_count": null,
   "id": "88050533",
   "metadata": {
    "papermill": {
     "duration": 0.223683,
     "end_time": "2024-10-09T01:14:58.631535",
     "exception": false,
     "start_time": "2024-10-09T01:14:58.407852",
     "status": "completed"
    },
    "tags": []
   },
   "outputs": [],
   "source": [
    "# check dublicates\n",
    "df.duplicated().sum()"
   ]
  },
  {
   "cell_type": "code",
   "execution_count": null,
   "id": "dbbcfe68",
   "metadata": {
    "papermill": {
     "duration": 0.23646,
     "end_time": "2024-10-09T01:14:58.958335",
     "exception": false,
     "start_time": "2024-10-09T01:14:58.721875",
     "status": "completed"
    },
    "tags": []
   },
   "outputs": [],
   "source": [
    "df.drop_duplicates(inplace=True)"
   ]
  },
  {
   "cell_type": "code",
   "execution_count": null,
   "id": "df09b465",
   "metadata": {
    "papermill": {
     "duration": 0.11829,
     "end_time": "2024-10-09T01:14:59.168256",
     "exception": false,
     "start_time": "2024-10-09T01:14:59.049966",
     "status": "completed"
    },
    "tags": []
   },
   "outputs": [],
   "source": [
    "df"
   ]
  },
  {
   "cell_type": "code",
   "execution_count": null,
   "id": "6b695b1b",
   "metadata": {
    "papermill": {
     "duration": 0.12179,
     "end_time": "2024-10-09T01:14:59.379593",
     "exception": false,
     "start_time": "2024-10-09T01:14:59.257803",
     "status": "completed"
    },
    "tags": []
   },
   "outputs": [],
   "source": [
    "df.isna().sum() # no outliers at target column"
   ]
  },
  {
   "cell_type": "code",
   "execution_count": null,
   "id": "163257a2",
   "metadata": {
    "papermill": {
     "duration": 0.148897,
     "end_time": "2024-10-09T01:14:59.618396",
     "exception": false,
     "start_time": "2024-10-09T01:14:59.469499",
     "status": "completed"
    },
    "tags": []
   },
   "outputs": [],
   "source": [
    "# split data\n",
    "\n",
    "# remove haversine_distance as no big diffrence then try again after modeling\n",
    "# remove un-nessacry features from X\n",
    "\n",
    "X = df.drop([\"fare_amount\", \"haversine_distance\", 'pickup_longitude', \"pickup_latitude\", \"dropoff_longitude\", 'dropoff_latitude'], axis=1)\n",
    "# X = df.drop([\"fare_amount\", \"haversine_distance\", 'distance', 'pickup_year', 'pickup_month', 'pickup_weekday', 'pickup_hour', 'pickup_season', 'pickup_period'], axis=1)\n",
    "y = df['fare_amount']\n",
    "\n",
    "X_train, X_test, y_train, y_test = train_test_split(X, y, test_size=0.1, shuffle=True, random_state=42)\n",
    "X_train"
   ]
  },
  {
   "cell_type": "code",
   "execution_count": null,
   "id": "963b4247",
   "metadata": {
    "papermill": {
     "duration": 0.099455,
     "end_time": "2024-10-09T01:14:59.807743",
     "exception": false,
     "start_time": "2024-10-09T01:14:59.708288",
     "status": "completed"
    },
    "tags": []
   },
   "outputs": [],
   "source": [
    "X_train.shape, X_test.shape # 20k is more than enough to test the model"
   ]
  },
  {
   "cell_type": "code",
   "execution_count": null,
   "id": "bdd5a72d",
   "metadata": {
    "papermill": {
     "duration": 0.109054,
     "end_time": "2024-10-09T01:15:00.007464",
     "exception": false,
     "start_time": "2024-10-09T01:14:59.898410",
     "status": "completed"
    },
    "tags": []
   },
   "outputs": [],
   "source": [
    "from sklearn.base import BaseEstimator, TransformerMixin\n",
    "\n",
    "class Handle_outliers_lb_ub(BaseEstimator, TransformerMixin):\n",
    "    \n",
    "    def fit(self, X, y=None):\n",
    "        self.n_features_in_ = X.shape[1] \n",
    "        q1 = np.percentile(X, 25)\n",
    "        q3 = np.percentile(X, 75)\n",
    "        iqr = q3 - q1\n",
    "        ub_train = q3 + 1.5 * iqr\n",
    "        lb_train = q1 - 1.5 * iqr\n",
    "        self.ub_train = ub_train\n",
    "        self.lb_train = lb_train\n",
    "        return self # always return self\n",
    "\n",
    "    def transform(self, X, y=None):\n",
    "        assert self.n_features_in_ == X.shape[1]\n",
    "        X[X > self.ub_train] = self.ub_train\n",
    "        X[X < self.lb_train] = self.lb_train\n",
    "        return X\n",
    "    \n",
    "h_lb_ub = Handle_outliers_lb_ub()\n",
    "h_lb_ub"
   ]
  },
  {
   "cell_type": "code",
   "execution_count": null,
   "id": "6f9132df",
   "metadata": {
    "papermill": {
     "duration": 0.106978,
     "end_time": "2024-10-09T01:15:00.206183",
     "exception": false,
     "start_time": "2024-10-09T01:15:00.099205",
     "status": "completed"
    },
    "tags": []
   },
   "outputs": [],
   "source": [
    "from sklearn.base import BaseEstimator, TransformerMixin\n",
    "class LogTransfomer(BaseEstimator, TransformerMixin):\n",
    "\n",
    "    def fit(self, x, y=None):  # always return self\n",
    "        # calculate what is needed to make .transform()\n",
    "        # self.mean_ = np.mean(x)\n",
    "        self.n_features_in_ = x.shape[1] \n",
    "        return self # always return self\n",
    "    \n",
    "    def transform(self, x, y=None):\n",
    "        assert self.n_features_in_ == x.shape[1]\n",
    "        return np.log1p(x)\n",
    "    \n",
    "log_transformer = LogTransfomer()\n",
    "log_transformer"
   ]
  },
  {
   "cell_type": "code",
   "execution_count": null,
   "id": "be07a9c6",
   "metadata": {
    "papermill": {
     "duration": 1.293333,
     "end_time": "2024-10-09T01:15:01.590415",
     "exception": false,
     "start_time": "2024-10-09T01:15:00.297082",
     "status": "completed"
    },
    "tags": []
   },
   "outputs": [],
   "source": [
    "sns.histplot(X_train['distance'])"
   ]
  },
  {
   "cell_type": "code",
   "execution_count": null,
   "id": "2426f56e",
   "metadata": {
    "papermill": {
     "duration": 1.518294,
     "end_time": "2024-10-09T01:15:03.204948",
     "exception": false,
     "start_time": "2024-10-09T01:15:01.686654",
     "status": "completed"
    },
    "tags": []
   },
   "outputs": [],
   "source": [
    "rbs_scaler = RobustScaler()\n",
    "data = rbs_scaler.fit_transform(X_train[['distance']])\n",
    "sns.histplot(data)"
   ]
  },
  {
   "cell_type": "code",
   "execution_count": null,
   "id": "1cbbdd0a",
   "metadata": {
    "papermill": {
     "duration": 0.93356,
     "end_time": "2024-10-09T01:15:04.231178",
     "exception": false,
     "start_time": "2024-10-09T01:15:03.297618",
     "status": "completed"
    },
    "tags": []
   },
   "outputs": [],
   "source": [
    "data_logged = log_transformer.fit_transform(X_train[['distance']])\n",
    "sns.histplot(data_logged)"
   ]
  },
  {
   "cell_type": "code",
   "execution_count": null,
   "id": "cff858f8",
   "metadata": {
    "papermill": {
     "duration": 0.316506,
     "end_time": "2024-10-09T01:15:04.641464",
     "exception": false,
     "start_time": "2024-10-09T01:15:04.324958",
     "status": "completed"
    },
    "tags": []
   },
   "outputs": [],
   "source": [
    "sns.boxplot(x=data_logged['distance'])"
   ]
  },
  {
   "cell_type": "code",
   "execution_count": null,
   "id": "7391bf01",
   "metadata": {
    "papermill": {
     "duration": 0.750923,
     "end_time": "2024-10-09T01:15:05.485354",
     "exception": false,
     "start_time": "2024-10-09T01:15:04.734431",
     "status": "completed"
    },
    "tags": []
   },
   "outputs": [],
   "source": [
    "rbs_scaler = RobustScaler()\n",
    "data_logged = rbs_scaler.fit_transform(data_logged)\n",
    "sns.histplot(data_logged)"
   ]
  },
  {
   "cell_type": "code",
   "execution_count": null,
   "id": "54e6445f",
   "metadata": {
    "papermill": {
     "duration": 0.299857,
     "end_time": "2024-10-09T01:15:05.885484",
     "exception": false,
     "start_time": "2024-10-09T01:15:05.585627",
     "status": "completed"
    },
    "tags": []
   },
   "outputs": [],
   "source": [
    "sns.boxplot(data_logged)"
   ]
  },
  {
   "cell_type": "code",
   "execution_count": null,
   "id": "6e8cd595",
   "metadata": {
    "papermill": {
     "duration": 0.160784,
     "end_time": "2024-10-09T01:15:06.141326",
     "exception": false,
     "start_time": "2024-10-09T01:15:05.980542",
     "status": "completed"
    },
    "tags": []
   },
   "outputs": [],
   "source": [
    "# make pipeline\n",
    "\n",
    "# cat1: passenger_count, pickup_year, pickup_month, pickup_weekday, pickup_hour => categorical encoded data\n",
    "# cat2: pickup_season => OHE, pickup_period => OHE\n",
    "# num: distance => right-skewed / outliers / 0 -> 53km\n",
    "# num2: pickup_longitude, pickup_latitude, dropoff_longitude, dropoff_latitude => impute + scaling_robust\n",
    "# target: fare_amount => right-skewed / outliers\n",
    "\n",
    "cat_1_pipeline = Pipeline(steps=[\n",
    "    ('impute', SimpleImputer(strategy='most_frequent')),\n",
    "])\n",
    "\n",
    "cat_2_pipeline = Pipeline(steps=[\n",
    "    ('impute', SimpleImputer(strategy='most_frequent')),\n",
    "    ('ohe', OneHotEncoder(sparse_output=False, drop='first'))\n",
    "])\n",
    "\n",
    "num_pipeline = Pipeline(steps=[\n",
    "    ('impute', SimpleImputer(strategy='median')),\n",
    "    ('handle_outliers', LogTransfomer()),\n",
    "    ('scale', RobustScaler())\n",
    "])\n",
    "\n",
    "num_2_pipeline = Pipeline(steps=[\n",
    "    ('impute', SimpleImputer(strategy='median')),\n",
    "    ('scale', RobustScaler())\n",
    "])\n",
    "\n",
    "target_pipeline = Pipeline(steps=[\n",
    "    ('handle_outliers', LogTransfomer())\n",
    "])\n",
    "\n",
    "preprocessing = ColumnTransformer(transformers=[\n",
    "    (\"cat_no_change\", cat_1_pipeline, ['passenger_count', 'pickup_year', 'pickup_month', 'pickup_weekday', 'pickup_hour']),\n",
    "    (\"cat_pipe\", cat_2_pipeline, ['pickup_season', 'pickup_period']),\n",
    "    (\"num_pipeline\", num_pipeline, ['distance']),\n",
    "    # (\"num_2_pipeline\", num_2_pipeline, ['pickup_longitude', 'pickup_latitude', 'dropoff_longitude', 'dropoff_latitude']),\n",
    "])\n",
    "\n",
    "preprocessing"
   ]
  },
  {
   "cell_type": "markdown",
   "id": "2462006f",
   "metadata": {
    "papermill": {
     "duration": 0.09574,
     "end_time": "2024-10-09T01:15:06.332874",
     "exception": false,
     "start_time": "2024-10-09T01:15:06.237134",
     "status": "completed"
    },
    "tags": []
   },
   "source": [
    "# Modeling\n",
    "\n",
    "* 1) Make Simple Model\n",
    "\n",
    "* 2) Get validation accuracy to invstigate:\n",
    "        - Underfitting vs Overfitting (bias - variance tradeoff)\n",
    "\n",
    "* 3) Hyperparameters tunning (using GridSearchCV or RandomizedSearchCV)\n",
    "\n",
    "* 4) Get Test Score & confidence interval\n",
    "\n",
    "* 5) save model\n",
    "\n",
    "* 6) put it in backend (streamlit / flaskapp)"
   ]
  },
  {
   "cell_type": "markdown",
   "id": "d3621b14",
   "metadata": {
    "papermill": {
     "duration": 0.094238,
     "end_time": "2024-10-09T01:15:06.522384",
     "exception": false,
     "start_time": "2024-10-09T01:15:06.428146",
     "status": "completed"
    },
    "tags": []
   },
   "source": [
    "# 1) Make Simple Model"
   ]
  },
  {
   "cell_type": "code",
   "execution_count": null,
   "id": "7fd7e154",
   "metadata": {
    "papermill": {
     "duration": 0.548196,
     "end_time": "2024-10-09T01:15:07.166346",
     "exception": false,
     "start_time": "2024-10-09T01:15:06.618150",
     "status": "completed"
    },
    "tags": []
   },
   "outputs": [],
   "source": [
    "# 1) Make Simple Model\n",
    "lr_model = LinearRegression() # train_accuracy = 14.6% with lat and lon without distance feature \n",
    "\n",
    "X_train_preprocessed = preprocessing.fit_transform(X_train)\n",
    "y_train_preprocessed = target_pipeline.fit_transform(np.array(y_train).reshape(-1, 1))\n",
    "\n",
    "lr_model.fit(X_train_preprocessed, y_train_preprocessed)\n",
    "y_train_pred = lr_model.predict(X_train_preprocessed)\n",
    "\n",
    "print(f\"Train Accuracy: {lr_model.score(X_train_preprocessed, y_train_preprocessed)}\") # r2_score\n",
    "print(f\"Train Loss: {mean_squared_error(y_true=y_train_preprocessed, y_pred=y_train_pred)}\") # mean_square_fare"
   ]
  },
  {
   "cell_type": "code",
   "execution_count": null,
   "id": "ebaba093",
   "metadata": {
    "papermill": {
     "duration": 0.112249,
     "end_time": "2024-10-09T01:15:07.422046",
     "exception": false,
     "start_time": "2024-10-09T01:15:07.309797",
     "status": "completed"
    },
    "tags": []
   },
   "outputs": [],
   "source": [
    "lr_model.coef_"
   ]
  },
  {
   "cell_type": "markdown",
   "id": "2470a8e6",
   "metadata": {
    "papermill": {
     "duration": 0.097647,
     "end_time": "2024-10-09T01:15:07.621227",
     "exception": false,
     "start_time": "2024-10-09T01:15:07.523580",
     "status": "completed"
    },
    "tags": []
   },
   "source": [
    "# 2) Get validation accuracy to invstigate"
   ]
  },
  {
   "cell_type": "code",
   "execution_count": null,
   "id": "e5ed5935",
   "metadata": {
    "papermill": {
     "duration": 1.289279,
     "end_time": "2024-10-09T01:15:09.007033",
     "exception": false,
     "start_time": "2024-10-09T01:15:07.717754",
     "status": "completed"
    },
    "tags": []
   },
   "outputs": [],
   "source": [
    "# 2) Get validation accuracy to invstigate\n",
    "# (Underfitting vs Overfitting (bias - variance tradeoff))\n",
    "\n",
    "valid_losses = -1 * cross_val_score(LinearRegression(), X_train_preprocessed, y_train_preprocessed, cv=5, scoring='neg_mean_squared_error')\n",
    "valid_scores = cross_val_score(LinearRegression(), X_train_preprocessed, y_train_preprocessed, cv=5, scoring='r2')\n",
    "pd.DataFrame({'valid_loss':valid_losses, 'valid_accuracy':valid_scores}).describe()"
   ]
  },
  {
   "cell_type": "markdown",
   "id": "d8971df8",
   "metadata": {
    "papermill": {
     "duration": 0.101553,
     "end_time": "2024-10-09T01:15:09.269336",
     "exception": false,
     "start_time": "2024-10-09T01:15:09.167783",
     "status": "completed"
    },
    "tags": []
   },
   "source": [
    "### Underfitting: let's try polynomial regression"
   ]
  },
  {
   "cell_type": "code",
   "execution_count": null,
   "id": "23ee1eb5",
   "metadata": {
    "papermill": {
     "duration": 0.488436,
     "end_time": "2024-10-09T01:15:09.858231",
     "exception": false,
     "start_time": "2024-10-09T01:15:09.369795",
     "status": "completed"
    },
    "tags": []
   },
   "outputs": [],
   "source": [
    "# make pipeline\n",
    "\n",
    "# cat1: passenger_count, pickup_year, pickup_month, pickup_weekday, pickup_hour => categorical encoded data\n",
    "# cat2: pickup_season => OHE, pickup_period => OHE\n",
    "# num: distance => right-skewed / outliers / 0 -> 53km\n",
    "# target: fare_amount => right-skewed / outliers\n",
    "\n",
    "cat_1_pipeline = Pipeline(steps=[\n",
    "    ('impute', SimpleImputer(strategy='most_frequent')),\n",
    "])\n",
    "\n",
    "cat_2_pipeline = Pipeline(steps=[\n",
    "    ('impute', SimpleImputer(strategy='most_frequent')),\n",
    "    ('ohe', OneHotEncoder(sparse_output=False, drop='first'))\n",
    "])\n",
    "\n",
    "num_pipeline = Pipeline(steps=[\n",
    "    ('impute', SimpleImputer(strategy='median')),\n",
    "    ('poly', PolynomialFeatures(degree=3, include_bias=False)),\n",
    "    ('handle_outliers', LogTransfomer()),\n",
    "    ('scale', RobustScaler())\n",
    "])\n",
    "\n",
    "\n",
    "target_pipeline = Pipeline(steps=[\n",
    "    ('handle_outliers', LogTransfomer())\n",
    "\n",
    "])\n",
    "\n",
    "poly_preprocessing = ColumnTransformer(transformers=[\n",
    "    (\"cat_no_change\", cat_1_pipeline, ['passenger_count', 'pickup_year', 'pickup_month', 'pickup_weekday', 'pickup_hour']),\n",
    "    (\"cat_pipe\", cat_2_pipeline, ['pickup_season', 'pickup_period']),\n",
    "    (\"num_pipeline\", num_pipeline, ['distance']),\n",
    "])\n",
    "\n",
    "poly_preprocessing"
   ]
  },
  {
   "cell_type": "code",
   "execution_count": null,
   "id": "47b0ce7b",
   "metadata": {
    "papermill": {
     "duration": 0.107794,
     "end_time": "2024-10-09T01:15:10.066507",
     "exception": false,
     "start_time": "2024-10-09T01:15:09.958713",
     "status": "completed"
    },
    "tags": []
   },
   "outputs": [],
   "source": [
    "target_pipeline"
   ]
  },
  {
   "cell_type": "code",
   "execution_count": null,
   "id": "b8b8a8a2",
   "metadata": {
    "papermill": {
     "duration": 0.540739,
     "end_time": "2024-10-09T01:15:10.705213",
     "exception": false,
     "start_time": "2024-10-09T01:15:10.164474",
     "status": "completed"
    },
    "tags": []
   },
   "outputs": [],
   "source": [
    "poly_lr_model = LinearRegression()\n",
    "\n",
    "X_train_preprocessed_poly = poly_preprocessing.fit_transform(X_train)\n",
    "y_train_preprocessed = target_pipeline.fit_transform(np.array(y_train).reshape(-1, 1))\n",
    "\n",
    "poly_lr_model.fit(X_train_preprocessed_poly, y_train_preprocessed)\n",
    "y_train_pred = poly_lr_model.predict(X_train_preprocessed_poly)\n",
    "\n",
    "print(f\"Train Accuracy: {poly_lr_model.score(X_train_preprocessed_poly, y_train_preprocessed)}\")\n",
    "print(f\"Train Loss: {mean_squared_error(y_true=y_train_preprocessed, y_pred=y_train_pred)}\")"
   ]
  },
  {
   "cell_type": "code",
   "execution_count": null,
   "id": "17ee2be3",
   "metadata": {
    "papermill": {
     "duration": 0.107099,
     "end_time": "2024-10-09T01:15:10.989722",
     "exception": false,
     "start_time": "2024-10-09T01:15:10.882623",
     "status": "completed"
    },
    "tags": []
   },
   "outputs": [],
   "source": [
    "poly_lr_model.coef_"
   ]
  },
  {
   "cell_type": "code",
   "execution_count": null,
   "id": "eee9fe97",
   "metadata": {
    "papermill": {
     "duration": 0.1077,
     "end_time": "2024-10-09T01:15:11.193485",
     "exception": false,
     "start_time": "2024-10-09T01:15:11.085785",
     "status": "completed"
    },
    "tags": []
   },
   "outputs": [],
   "source": [
    "X_train_preprocessed_poly.shape"
   ]
  },
  {
   "cell_type": "markdown",
   "id": "8e55f7e5",
   "metadata": {
    "papermill": {
     "duration": 0.096442,
     "end_time": "2024-10-09T01:15:11.386183",
     "exception": false,
     "start_time": "2024-10-09T01:15:11.289741",
     "status": "completed"
    },
    "tags": []
   },
   "source": [
    "# 2) Get validation accuracy to invstigate Underfitting or Overfitting"
   ]
  },
  {
   "cell_type": "code",
   "execution_count": null,
   "id": "b72d9d6a",
   "metadata": {
    "papermill": {
     "duration": 1.640863,
     "end_time": "2024-10-09T01:15:13.123282",
     "exception": false,
     "start_time": "2024-10-09T01:15:11.482419",
     "status": "completed"
    },
    "tags": []
   },
   "outputs": [],
   "source": [
    "# 2) Get validation accuracy to invstigate\n",
    "# (Underfitting vs Overfitting (bias - variance tradeoff))\n",
    "\n",
    "valid_losses = -1 * cross_val_score(LinearRegression(), X_train_preprocessed_poly, y_train_preprocessed, cv=5, scoring='neg_mean_squared_error')\n",
    "valid_scores = cross_val_score(LinearRegression(), X_train_preprocessed_poly, y_train_preprocessed, cv=5, scoring='r2')\n",
    "pd.DataFrame({'valid_loss':valid_losses, 'valid_accuracy':valid_scores}).describe()"
   ]
  },
  {
   "cell_type": "markdown",
   "id": "b4a5946e",
   "metadata": {
    "papermill": {
     "duration": 0.096101,
     "end_time": "2024-10-09T01:15:13.370593",
     "exception": false,
     "start_time": "2024-10-09T01:15:13.274492",
     "status": "completed"
    },
    "tags": []
   },
   "source": [
    "### let's try regularization (to see lasso and elasticnet remove un-nessacry feature and see if it helps)"
   ]
  },
  {
   "cell_type": "code",
   "execution_count": null,
   "id": "4fe02b7b",
   "metadata": {
    "papermill": {
     "duration": 0.46255,
     "end_time": "2024-10-09T01:15:13.929380",
     "exception": false,
     "start_time": "2024-10-09T01:15:13.466830",
     "status": "completed"
    },
    "tags": []
   },
   "outputs": [],
   "source": [
    "ridge_lr_model = Ridge(alpha=0.05, random_state=42)\n",
    "\n",
    "X_train_preprocessed_poly = poly_preprocessing.fit_transform(X_train)\n",
    "y_train_preprocessed = target_pipeline.fit_transform(np.array(y_train).reshape(-1, 1))\n",
    "\n",
    "ridge_lr_model.fit(X_train_preprocessed_poly, y_train_preprocessed)\n",
    "y_train_pred = ridge_lr_model.predict(X_train_preprocessed_poly)\n",
    "\n",
    "print(f\"Train Accuracy: {ridge_lr_model.score(X_train_preprocessed_poly, y_train_preprocessed)}\")\n",
    "print(f\"Train Loss: {mean_squared_error(y_true=y_train_preprocessed, y_pred=y_train_pred)}\")"
   ]
  },
  {
   "cell_type": "code",
   "execution_count": null,
   "id": "9c7d0445",
   "metadata": {
    "papermill": {
     "duration": 0.110675,
     "end_time": "2024-10-09T01:15:14.181344",
     "exception": false,
     "start_time": "2024-10-09T01:15:14.070669",
     "status": "completed"
    },
    "tags": []
   },
   "outputs": [],
   "source": [
    "ridge_lr_model.coef_"
   ]
  },
  {
   "cell_type": "code",
   "execution_count": null,
   "id": "969204c5",
   "metadata": {
    "papermill": {
     "duration": 0.581477,
     "end_time": "2024-10-09T01:15:14.859508",
     "exception": false,
     "start_time": "2024-10-09T01:15:14.278031",
     "status": "completed"
    },
    "tags": []
   },
   "outputs": [],
   "source": [
    "valid_losses = -1 * cross_val_score(Ridge(alpha=0.05, random_state=42), X_train_preprocessed_poly, y_train_preprocessed, cv=5, scoring='neg_mean_squared_error')\n",
    "valid_scores = cross_val_score(Ridge(alpha=0.05, random_state=42), X_train_preprocessed_poly, y_train_preprocessed, cv=5, scoring='r2')\n",
    "pd.DataFrame({'valid_loss':valid_losses, 'valid_accuracy':valid_scores}).describe()"
   ]
  },
  {
   "cell_type": "code",
   "execution_count": null,
   "id": "f3489099",
   "metadata": {
    "papermill": {
     "duration": 1.050901,
     "end_time": "2024-10-09T01:15:16.048442",
     "exception": false,
     "start_time": "2024-10-09T01:15:14.997541",
     "status": "completed"
    },
    "tags": []
   },
   "outputs": [],
   "source": [
    "## lasso\n",
    "lasso_lr_model = Lasso(alpha=0.05, random_state=42)\n",
    "\n",
    "X_train_preprocessed_poly = poly_preprocessing.fit_transform(X_train)\n",
    "y_train_preprocessed = target_pipeline.fit_transform(np.array(y_train).reshape(-1, 1))\n",
    "\n",
    "lasso_lr_model.fit(X_train_preprocessed_poly, y_train_preprocessed)\n",
    "y_train_pred = lasso_lr_model.predict(X_train_preprocessed_poly)\n",
    "\n",
    "print(f\"Train Accuracy: {lasso_lr_model.score(X_train_preprocessed_poly, y_train_preprocessed)}\")\n",
    "print(f\"Train Loss: {mean_squared_error(y_true=y_train_preprocessed, y_pred=y_train_pred)}\")"
   ]
  },
  {
   "cell_type": "code",
   "execution_count": null,
   "id": "77a40d97",
   "metadata": {
    "papermill": {
     "duration": 0.106738,
     "end_time": "2024-10-09T01:15:16.325133",
     "exception": false,
     "start_time": "2024-10-09T01:15:16.218395",
     "status": "completed"
    },
    "tags": []
   },
   "outputs": [],
   "source": [
    "lasso_lr_model.coef_"
   ]
  },
  {
   "cell_type": "code",
   "execution_count": null,
   "id": "f8c0f236",
   "metadata": {
    "papermill": {
     "duration": 4.681087,
     "end_time": "2024-10-09T01:15:21.103861",
     "exception": false,
     "start_time": "2024-10-09T01:15:16.422774",
     "status": "completed"
    },
    "tags": []
   },
   "outputs": [],
   "source": [
    "valid_losses = -1 * cross_val_score(Lasso(alpha=0.05, random_state=42), X_train_preprocessed_poly, y_train_preprocessed, cv=5, scoring='neg_mean_squared_error')\n",
    "valid_scores = cross_val_score(Lasso(alpha=0.05, random_state=42), X_train_preprocessed_poly, y_train_preprocessed, cv=5, scoring='r2')\n",
    "pd.DataFrame({'valid_loss':valid_losses, 'valid_accuracy':valid_scores}).describe()"
   ]
  },
  {
   "cell_type": "code",
   "execution_count": null,
   "id": "834b01e6",
   "metadata": {
    "papermill": {
     "duration": 0.604996,
     "end_time": "2024-10-09T01:15:21.866584",
     "exception": false,
     "start_time": "2024-10-09T01:15:21.261588",
     "status": "completed"
    },
    "tags": []
   },
   "outputs": [],
   "source": [
    "# elasticnet\n",
    "elasticnet_lr_model = ElasticNet(alpha=0.05, l1_ratio=0.05, random_state=42)  \n",
    "\n",
    "X_train_preprocessed_poly = poly_preprocessing.fit_transform(X_train)\n",
    "y_train_preprocessed = target_pipeline.fit_transform(np.array(y_train).reshape(-1, 1))\n",
    "\n",
    "elasticnet_lr_model.fit(X_train_preprocessed_poly, y_train_preprocessed)\n",
    "y_train_pred = elasticnet_lr_model.predict(X_train_preprocessed_poly)\n",
    "\n",
    "print(f\"Train Accuracy: {elasticnet_lr_model.score(X_train_preprocessed_poly, y_train_preprocessed)}\")\n",
    "print(f\"Train Loss: {mean_squared_error(y_true=y_train_preprocessed, y_pred=y_train_pred)}\")"
   ]
  },
  {
   "cell_type": "code",
   "execution_count": null,
   "id": "0d2b0aeb",
   "metadata": {
    "papermill": {
     "duration": 0.107713,
     "end_time": "2024-10-09T01:15:22.141982",
     "exception": false,
     "start_time": "2024-10-09T01:15:22.034269",
     "status": "completed"
    },
    "tags": []
   },
   "outputs": [],
   "source": [
    "elasticnet_lr_model.coef_"
   ]
  },
  {
   "cell_type": "code",
   "execution_count": null,
   "id": "e982be33",
   "metadata": {
    "papermill": {
     "duration": 1.825419,
     "end_time": "2024-10-09T01:15:24.067503",
     "exception": false,
     "start_time": "2024-10-09T01:15:22.242084",
     "status": "completed"
    },
    "tags": []
   },
   "outputs": [],
   "source": [
    "valid_losses = -1 * cross_val_score(ElasticNet(alpha=0.05, l1_ratio=0.05, random_state=42), X_train_preprocessed_poly, y_train_preprocessed, cv=5, scoring='neg_mean_squared_error')\n",
    "valid_scores = cross_val_score(ElasticNet(alpha=0.05, l1_ratio=0.05, random_state=42), X_train_preprocessed_poly, y_train_preprocessed, cv=5, scoring='r2')\n",
    "pd.DataFrame({'valid_loss':valid_losses, 'valid_accuracy':valid_scores}).describe()"
   ]
  },
  {
   "cell_type": "markdown",
   "id": "409a71ca",
   "metadata": {
    "papermill": {
     "duration": 0.097355,
     "end_time": "2024-10-09T01:15:24.325764",
     "exception": false,
     "start_time": "2024-10-09T01:15:24.228409",
     "status": "completed"
    },
    "tags": []
   },
   "source": [
    "### let's try Stocastic Gradient Descent without poly features first to determine if it overfit or underfit"
   ]
  },
  {
   "cell_type": "code",
   "execution_count": null,
   "id": "e212a2f3",
   "metadata": {
    "papermill": {
     "duration": 2.263732,
     "end_time": "2024-10-09T01:15:26.687505",
     "exception": false,
     "start_time": "2024-10-09T01:15:24.423773",
     "status": "completed"
    },
    "tags": []
   },
   "outputs": [],
   "source": [
    "sgd_model = SGDRegressor(eta0=0.000001, max_iter=2000, tol=0.0000000001, n_iter_no_change=200, random_state=42)\n",
    "\n",
    "X_train_copy = X_train[:10000] # as it took long time so i tried slice of data [proof of concept] (if model overfit then increaseing data will fit)\n",
    "y_train_copy = y_train[:10000]\n",
    "X_train_preprocessed = preprocessing.fit_transform(X_train_copy)\n",
    "y_train_preprocessed = target_pipeline.fit_transform(np.array(y_train_copy).reshape(-1, 1))\n",
    "\n",
    "sgd_model.fit(X_train_preprocessed, y_train_preprocessed)\n",
    "y_train_pred = sgd_model.predict(X_train_preprocessed)\n",
    "\n",
    "print(f\"Train Accuracy: {sgd_model.score(X_train_preprocessed, y_train_preprocessed)}\")\n",
    "print(f\"Train Loss: {mean_squared_error(y_true=y_train_preprocessed, y_pred=y_train_pred)}\")"
   ]
  },
  {
   "cell_type": "code",
   "execution_count": null,
   "id": "4761b5c2",
   "metadata": {
    "papermill": {
     "duration": 17.820752,
     "end_time": "2024-10-09T01:15:44.654024",
     "exception": false,
     "start_time": "2024-10-09T01:15:26.833272",
     "status": "completed"
    },
    "tags": []
   },
   "outputs": [],
   "source": [
    "valid_losses = -1 * cross_val_score(SGDRegressor(eta0=0.000001, max_iter=2000, tol=0.0000000001, n_iter_no_change=200, random_state=42), X_train_preprocessed, y_train_preprocessed, cv=5, scoring='neg_mean_squared_error')\n",
    "valid_scores = cross_val_score(SGDRegressor(eta0=0.000001, max_iter=2000, tol=0.0000000001, n_iter_no_change=200, random_state=42), X_train_preprocessed, y_train_preprocessed, cv=5, scoring='r2')\n",
    "pd.DataFrame({'valid_loss':valid_losses, 'valid_accuracy':valid_scores}).describe()"
   ]
  },
  {
   "cell_type": "code",
   "execution_count": null,
   "id": "fab397fd",
   "metadata": {
    "papermill": {
     "duration": 2.471192,
     "end_time": "2024-10-09T01:15:47.262703",
     "exception": false,
     "start_time": "2024-10-09T01:15:44.791511",
     "status": "completed"
    },
    "tags": []
   },
   "outputs": [],
   "source": [
    "# Solution of Overfitting\n",
    "sgd_model = SGDRegressor(eta0=0.000001, max_iter=2000, tol=0.0000000001, n_iter_no_change=300, alpha=0.05, penalty='l2', random_state=42)\n",
    "\n",
    "X_train_copy = X_train[:10000] # as it took long time so i tried slice of data [proof of concept] (if model overfit then increaseing data will fit)\n",
    "y_train_copy = y_train[:10000]\n",
    "X_train_preprocessed_poly = poly_preprocessing.fit_transform(X_train_copy)\n",
    "y_train_preprocessed = target_pipeline.fit_transform(np.array(y_train_copy).reshape(-1, 1))\n",
    "\n",
    "sgd_model.fit(X_train_preprocessed_poly, y_train_preprocessed)\n",
    "y_train_pred = sgd_model.predict(X_train_preprocessed_poly)\n",
    "\n",
    "print(f\"Train Accuracy: {sgd_model.score(X_train_preprocessed_poly, y_train_preprocessed)}\")\n",
    "print(f\"Train Loss: {mean_squared_error(y_true=y_train_preprocessed, y_pred=y_train_pred)}\")"
   ]
  },
  {
   "cell_type": "code",
   "execution_count": null,
   "id": "1cc3bb5d",
   "metadata": {
    "papermill": {
     "duration": 18.590292,
     "end_time": "2024-10-09T01:16:05.996365",
     "exception": false,
     "start_time": "2024-10-09T01:15:47.406073",
     "status": "completed"
    },
    "tags": []
   },
   "outputs": [],
   "source": [
    "valid_losses = -1 * cross_val_score(SGDRegressor(eta0=0.000001, max_iter=2000, tol=0.0000000001, n_iter_no_change=200, random_state=42), X_train_preprocessed_poly, y_train_preprocessed, cv=5, scoring='neg_mean_squared_error')\n",
    "valid_scores = cross_val_score(SGDRegressor(eta0=0.000001, max_iter=2000, tol=0.0000000001, n_iter_no_change=200, random_state=42), X_train_preprocessed_poly, y_train_preprocessed, cv=5, scoring='r2')\n",
    "pd.DataFrame({'valid_loss':valid_losses, 'valid_accuracy':valid_scores}).describe()"
   ]
  },
  {
   "cell_type": "markdown",
   "id": "0a66fe90",
   "metadata": {
    "papermill": {
     "duration": 0.100117,
     "end_time": "2024-10-09T01:16:06.237129",
     "exception": false,
     "start_time": "2024-10-09T01:16:06.137012",
     "status": "completed"
    },
    "tags": []
   },
   "source": [
    "## Try out more complex models to solve underfitting"
   ]
  },
  {
   "cell_type": "code",
   "execution_count": null,
   "id": "1a056228",
   "metadata": {
    "papermill": {
     "duration": 0.108925,
     "end_time": "2024-10-09T01:16:06.447290",
     "exception": false,
     "start_time": "2024-10-09T01:16:06.338365",
     "status": "completed"
    },
    "tags": []
   },
   "outputs": [],
   "source": [
    "from sklearn.linear_model import LinearRegression,SGDRegressor, Lasso, Ridge, ElasticNet, LassoCV, RidgeCV, ElasticNetCV\n",
    "from sklearn.ensemble import RandomForestRegressor,GradientBoostingRegressor\n",
    "from sklearn.svm import SVR\n",
    "from sklearn.tree import DecisionTreeRegressor\n",
    "from sklearn.neighbors import KNeighborsRegressor"
   ]
  },
  {
   "cell_type": "code",
   "execution_count": null,
   "id": "a67cbd5d",
   "metadata": {
    "papermill": {
     "duration": 738.56424,
     "end_time": "2024-10-09T01:28:25.112739",
     "exception": false,
     "start_time": "2024-10-09T01:16:06.548499",
     "status": "completed"
    },
    "tags": []
   },
   "outputs": [],
   "source": [
    "rf_model = RandomForestRegressor()\n",
    "\n",
    "X_train_preprocessed = preprocessing.fit_transform(X_train)\n",
    "y_train_preprocessed = target_pipeline.fit_transform(np.array(y_train).reshape(-1, 1))\n",
    "\n",
    "rf_model.fit(X_train_preprocessed, y_train_preprocessed)\n",
    "y_train_pred = rf_model.predict(X_train_preprocessed)\n",
    "\n",
    "print(f\"Train Accuracy: {rf_model.score(X_train_preprocessed, y_train_preprocessed)}\")\n",
    "print(f\"Train Loss: {mean_squared_error(y_true=y_train_preprocessed, y_pred=y_train_pred)}\")\n",
    "\n",
    "valid_losses = -1 * cross_val_score(RandomForestRegressor(), X_train_preprocessed, y_train_preprocessed, cv=5, scoring='neg_mean_squared_error')\n",
    "valid_scores = cross_val_score(RandomForestRegressor(), X_train_preprocessed, y_train_preprocessed, cv=5, scoring='r2')\n",
    "pd.DataFrame({'valid_loss':valid_losses, 'valid_accuracy':valid_scores}).describe()"
   ]
  },
  {
   "cell_type": "code",
   "execution_count": null,
   "id": "e06a16f6",
   "metadata": {
    "papermill": {
     "duration": 204.308602,
     "end_time": "2024-10-09T01:31:49.522329",
     "exception": false,
     "start_time": "2024-10-09T01:28:25.213727",
     "status": "completed"
    },
    "tags": []
   },
   "outputs": [],
   "source": [
    "gb_model = GradientBoostingRegressor()\n",
    "\n",
    "X_train_preprocessed = preprocessing.fit_transform(X_train)\n",
    "y_train_preprocessed = target_pipeline.fit_transform(np.array(y_train).reshape(-1, 1))\n",
    "\n",
    "gb_model.fit(X_train_preprocessed, y_train_preprocessed)\n",
    "y_train_pred = gb_model.predict(X_train_preprocessed)\n",
    "\n",
    "print(f\"Train Accuracy: {gb_model.score(X_train_preprocessed, y_train_preprocessed)}\")\n",
    "print(f\"Train Loss: {mean_squared_error(y_true=y_train_preprocessed, y_pred=y_train_pred)}\")\n",
    "\n",
    "valid_losses = -1 * cross_val_score(GradientBoostingRegressor(), X_train_preprocessed, y_train_preprocessed, cv=5, scoring='neg_mean_squared_error')\n",
    "valid_scores = cross_val_score(GradientBoostingRegressor(), X_train_preprocessed, y_train_preprocessed, cv=5, scoring='r2')\n",
    "pd.DataFrame({'valid_loss':valid_losses, 'valid_accuracy':valid_scores}).describe()"
   ]
  },
  {
   "cell_type": "code",
   "execution_count": null,
   "id": "7f6faef7",
   "metadata": {
    "papermill": {
     "duration": 46.983888,
     "end_time": "2024-10-09T01:32:36.608925",
     "exception": false,
     "start_time": "2024-10-09T01:31:49.625037",
     "status": "completed"
    },
    "tags": []
   },
   "outputs": [],
   "source": [
    "svr_model = SVR()\n",
    "\n",
    "X_train_copy = X_train[:10000] # as it took long time so i tried slice of data [proof of concept] (if model overfit then increaseing data will fit)\n",
    "y_train_copy = y_train[:10000]\n",
    "X_train_preprocessed = preprocessing.fit_transform(X_train_copy)\n",
    "y_train_preprocessed = target_pipeline.fit_transform(np.array(y_train_copy).reshape(-1, 1))\n",
    "\n",
    "svr_model.fit(X_train_preprocessed, y_train_preprocessed)\n",
    "y_train_pred = svr_model.predict(X_train_preprocessed)\n",
    "\n",
    "print(f\"Train Accuracy: {svr_model.score(X_train_preprocessed, y_train_preprocessed)}\")\n",
    "print(f\"Train Loss: {mean_squared_error(y_true=y_train_preprocessed, y_pred=y_train_pred)}\")\n",
    "\n",
    "valid_losses = -1 * cross_val_score(SVR(), X_train_preprocessed, y_train_preprocessed, cv=5, scoring='neg_mean_squared_error')\n",
    "valid_scores = cross_val_score(SVR(), X_train_preprocessed, y_train_preprocessed, cv=5, scoring='r2')\n",
    "pd.DataFrame({'valid_loss':valid_losses, 'valid_accuracy':valid_scores}).describe()"
   ]
  },
  {
   "cell_type": "code",
   "execution_count": null,
   "id": "d1023039",
   "metadata": {
    "papermill": {
     "duration": 11.469265,
     "end_time": "2024-10-09T01:32:48.182266",
     "exception": false,
     "start_time": "2024-10-09T01:32:36.713001",
     "status": "completed"
    },
    "tags": []
   },
   "outputs": [],
   "source": [
    "dt_model = DecisionTreeRegressor()\n",
    "\n",
    "X_train_preprocessed = preprocessing.fit_transform(X_train)\n",
    "y_train_preprocessed = target_pipeline.fit_transform(np.array(y_train).reshape(-1, 1))\n",
    "\n",
    "dt_model.fit(X_train_preprocessed, y_train_preprocessed)\n",
    "y_train_pred = dt_model.predict(X_train_preprocessed)\n",
    "\n",
    "print(f\"Train Accuracy: {dt_model.score(X_train_preprocessed, y_train_preprocessed)}\")\n",
    "print(f\"Train Loss: {mean_squared_error(y_true=y_train_preprocessed, y_pred=y_train_pred)}\")\n",
    "\n",
    "valid_losses = -1 * cross_val_score(DecisionTreeRegressor(), X_train_preprocessed, y_train_preprocessed, cv=5, scoring='neg_mean_squared_error')\n",
    "valid_scores = cross_val_score(DecisionTreeRegressor(), X_train_preprocessed, y_train_preprocessed, cv=5, scoring='r2')\n",
    "pd.DataFrame({'valid_loss':valid_losses, 'valid_accuracy':valid_scores}).describe()"
   ]
  },
  {
   "cell_type": "code",
   "execution_count": null,
   "id": "ffcd2d84",
   "metadata": {
    "papermill": {
     "duration": 56.207009,
     "end_time": "2024-10-09T01:33:44.494957",
     "exception": false,
     "start_time": "2024-10-09T01:32:48.287948",
     "status": "completed"
    },
    "tags": []
   },
   "outputs": [],
   "source": [
    "knn_model = KNeighborsRegressor()\n",
    "\n",
    "X_train_preprocessed = preprocessing.fit_transform(X_train)\n",
    "y_train_preprocessed = target_pipeline.fit_transform(np.array(y_train).reshape(-1, 1))\n",
    "\n",
    "knn_model.fit(X_train_preprocessed, y_train_preprocessed)\n",
    "y_train_pred = knn_model.predict(X_train_preprocessed)\n",
    "\n",
    "print(f\"Train Accuracy: {knn_model.score(X_train_preprocessed, y_train_preprocessed)}\")\n",
    "print(f\"Train Loss: {mean_squared_error(y_true=y_train_preprocessed, y_pred=y_train_pred)}\")\n",
    "\n",
    "valid_losses = -1 * cross_val_score(KNeighborsRegressor(), X_train_preprocessed, y_train_preprocessed, cv=5, scoring='neg_mean_squared_error')\n",
    "valid_scores = cross_val_score(KNeighborsRegressor(), X_train_preprocessed, y_train_preprocessed, cv=5, scoring='r2')\n",
    "pd.DataFrame({'valid_loss':valid_losses, 'valid_accuracy':valid_scores}).describe()"
   ]
  },
  {
   "cell_type": "markdown",
   "id": "38d9d1ae",
   "metadata": {
    "papermill": {
     "duration": 0.10323,
     "end_time": "2024-10-09T01:33:44.702321",
     "exception": false,
     "start_time": "2024-10-09T01:33:44.599091",
     "status": "completed"
    },
    "tags": []
   },
   "source": [
    "# 3) Hyperparameters tunning on 5 Models you think will work best\n",
    "\n",
    "\n",
    "**(using GridSearchCV or RandomizedSearchCV)**"
   ]
  },
  {
   "cell_type": "code",
   "execution_count": null,
   "id": "62858234",
   "metadata": {
    "papermill": {
     "duration": 0.264926,
     "end_time": "2024-10-09T01:33:45.070960",
     "exception": false,
     "start_time": "2024-10-09T01:33:44.806034",
     "status": "completed"
    },
    "tags": []
   },
   "outputs": [],
   "source": [
    "lr_pipeline = Pipeline(steps=[\n",
    "    (\"preprocessing\", poly_preprocessing),\n",
    "    (\"model\", LinearRegression())\n",
    "    ])\n",
    "\n",
    "lr_pipeline"
   ]
  },
  {
   "cell_type": "code",
   "execution_count": null,
   "id": "70a5533d",
   "metadata": {
    "papermill": {
     "duration": 14.29113,
     "end_time": "2024-10-09T01:33:59.471302",
     "exception": false,
     "start_time": "2024-10-09T01:33:45.180172",
     "status": "completed"
    },
    "tags": []
   },
   "outputs": [],
   "source": [
    "params = {\n",
    "    'preprocessing__num_pipeline__poly__degree':[1, 2, 3, 4, 5, 6, 7, 8, 9, 10]\n",
    "}\n",
    "\n",
    "y_train_preprocessed = target_pipeline.fit_transform(np.array(y_train).reshape(-1, 1))\n",
    "lr_grid = GridSearchCV(lr_pipeline, params, cv=3, scoring='neg_mean_squared_error')\n",
    "lr_grid.fit(X_train, y_train_preprocessed)"
   ]
  },
  {
   "cell_type": "code",
   "execution_count": null,
   "id": "8251732c",
   "metadata": {
    "papermill": {
     "duration": 0.114827,
     "end_time": "2024-10-09T01:33:59.696009",
     "exception": false,
     "start_time": "2024-10-09T01:33:59.581182",
     "status": "completed"
    },
    "tags": []
   },
   "outputs": [],
   "source": [
    "lr_grid.best_score_"
   ]
  },
  {
   "cell_type": "code",
   "execution_count": null,
   "id": "28deeff3",
   "metadata": {
    "papermill": {
     "duration": 0.114821,
     "end_time": "2024-10-09T01:33:59.916342",
     "exception": false,
     "start_time": "2024-10-09T01:33:59.801521",
     "status": "completed"
    },
    "tags": []
   },
   "outputs": [],
   "source": [
    "lr_grid.best_params_"
   ]
  },
  {
   "cell_type": "code",
   "execution_count": null,
   "id": "7fd3ee67",
   "metadata": {
    "papermill": {
     "duration": 0.270889,
     "end_time": "2024-10-09T01:34:00.292708",
     "exception": false,
     "start_time": "2024-10-09T01:34:00.021819",
     "status": "completed"
    },
    "tags": []
   },
   "outputs": [],
   "source": [
    "ridge_lr_pipeline = Pipeline(steps=[\n",
    "    (\"preprocessing\", poly_preprocessing),\n",
    "    (\"model\", Ridge(alpha=0.01, random_state=42))\n",
    "    ])\n",
    "\n",
    "ridge_lr_pipeline"
   ]
  },
  {
   "cell_type": "code",
   "execution_count": null,
   "id": "4148a354",
   "metadata": {
    "papermill": {
     "duration": 63.430962,
     "end_time": "2024-10-09T01:35:03.830263",
     "exception": false,
     "start_time": "2024-10-09T01:34:00.399301",
     "status": "completed"
    },
    "tags": []
   },
   "outputs": [],
   "source": [
    "params = {\n",
    "    'preprocessing__num_pipeline__poly__degree':[1, 2, 3, 4, 5, 6, 7, 8, 9, 10],\n",
    "    'model__alpha': [0, 0.01, 0.03, 0.05, 0.07]\n",
    "}\n",
    "\n",
    "y_train_preprocessed = target_pipeline.fit_transform(np.array(y_train).reshape(-1, 1))\n",
    "ridge_grid = GridSearchCV(ridge_lr_pipeline, params, cv=3, scoring='neg_mean_squared_error')\n",
    "ridge_grid.fit(X_train, y_train_preprocessed)"
   ]
  },
  {
   "cell_type": "code",
   "execution_count": null,
   "id": "fe593a69",
   "metadata": {
    "papermill": {
     "duration": 0.116201,
     "end_time": "2024-10-09T01:35:04.052715",
     "exception": false,
     "start_time": "2024-10-09T01:35:03.936514",
     "status": "completed"
    },
    "tags": []
   },
   "outputs": [],
   "source": [
    "ridge_grid.best_score_"
   ]
  },
  {
   "cell_type": "code",
   "execution_count": null,
   "id": "4b343612",
   "metadata": {
    "papermill": {
     "duration": 0.115999,
     "end_time": "2024-10-09T01:35:04.275860",
     "exception": false,
     "start_time": "2024-10-09T01:35:04.159861",
     "status": "completed"
    },
    "tags": []
   },
   "outputs": [],
   "source": [
    "ridge_grid.best_params_"
   ]
  },
  {
   "cell_type": "code",
   "execution_count": null,
   "id": "5d968be0",
   "metadata": {
    "papermill": {
     "duration": 0.270428,
     "end_time": "2024-10-09T01:35:04.653266",
     "exception": false,
     "start_time": "2024-10-09T01:35:04.382838",
     "status": "completed"
    },
    "tags": []
   },
   "outputs": [],
   "source": [
    "lasso_lr_pipeline = Pipeline(steps=[\n",
    "    (\"preprocessing\", poly_preprocessing),\n",
    "    (\"model\", Lasso(alpha=0.01, random_state=42))\n",
    "    ])\n",
    "\n",
    "lasso_lr_pipeline"
   ]
  },
  {
   "cell_type": "code",
   "execution_count": null,
   "id": "99d50117",
   "metadata": {
    "papermill": {
     "duration": 126.325977,
     "end_time": "2024-10-09T01:37:11.086355",
     "exception": false,
     "start_time": "2024-10-09T01:35:04.760378",
     "status": "completed"
    },
    "tags": []
   },
   "outputs": [],
   "source": [
    "params = {\n",
    "    'preprocessing__num_pipeline__poly__degree':[1, 2, 3, 4, 5, 6, 7, 8, 9, 10],\n",
    "    'model__alpha': [0, 0.01, 0.03, 0.05, 0.07]\n",
    "}\n",
    "\n",
    "y_train_preprocessed = target_pipeline.fit_transform(np.array(y_train).reshape(-1, 1))\n",
    "lasso_grid = GridSearchCV(lasso_lr_pipeline, params, cv=3, scoring='neg_mean_squared_error')\n",
    "lasso_grid.fit(X_train, y_train_preprocessed)"
   ]
  },
  {
   "cell_type": "code",
   "execution_count": null,
   "id": "4999bb2c",
   "metadata": {
    "papermill": {
     "duration": 0.122616,
     "end_time": "2024-10-09T01:37:11.376681",
     "exception": false,
     "start_time": "2024-10-09T01:37:11.254065",
     "status": "completed"
    },
    "tags": []
   },
   "outputs": [],
   "source": [
    "lasso_grid.best_score_"
   ]
  },
  {
   "cell_type": "code",
   "execution_count": null,
   "id": "de6624be",
   "metadata": {
    "papermill": {
     "duration": 0.121624,
     "end_time": "2024-10-09T01:37:11.610241",
     "exception": false,
     "start_time": "2024-10-09T01:37:11.488617",
     "status": "completed"
    },
    "tags": []
   },
   "outputs": [],
   "source": [
    "lasso_grid.best_params_"
   ]
  },
  {
   "cell_type": "code",
   "execution_count": null,
   "id": "d7b83bb0",
   "metadata": {
    "papermill": {
     "duration": 0.275437,
     "end_time": "2024-10-09T01:37:11.998007",
     "exception": false,
     "start_time": "2024-10-09T01:37:11.722570",
     "status": "completed"
    },
    "tags": []
   },
   "outputs": [],
   "source": [
    "elasticnet_lr_pipeline = Pipeline(steps=[\n",
    "    (\"preprocessing\", poly_preprocessing),\n",
    "    (\"model\", ElasticNet(alpha=0.01, l1_ratio=0.05, random_state=42))\n",
    "    ])\n",
    "\n",
    "elasticnet_lr_pipeline"
   ]
  },
  {
   "cell_type": "code",
   "execution_count": null,
   "id": "f4cf67cd",
   "metadata": {
    "papermill": {
     "duration": 128.455411,
     "end_time": "2024-10-09T01:39:20.568170",
     "exception": false,
     "start_time": "2024-10-09T01:37:12.112759",
     "status": "completed"
    },
    "tags": []
   },
   "outputs": [],
   "source": [
    "params = {\n",
    "    'preprocessing__num_pipeline__poly__degree':[1, 2, 3, 4, 5, 6, 7, 8, 9, 10],\n",
    "    'model__alpha': [0, 0.01, 0.03, 0.05, 0.07]\n",
    "}\n",
    "\n",
    "y_train_preprocessed = target_pipeline.fit_transform(np.array(y_train).reshape(-1, 1))\n",
    "elasticnet_grid = GridSearchCV(elasticnet_lr_pipeline, params, cv=3, scoring='neg_mean_squared_error')\n",
    "elasticnet_grid.fit(X_train, y_train_preprocessed)"
   ]
  },
  {
   "cell_type": "code",
   "execution_count": null,
   "id": "c70a430e",
   "metadata": {
    "papermill": {
     "duration": 0.134672,
     "end_time": "2024-10-09T01:39:20.842613",
     "exception": false,
     "start_time": "2024-10-09T01:39:20.707941",
     "status": "completed"
    },
    "tags": []
   },
   "outputs": [],
   "source": [
    "elasticnet_grid.best_score_"
   ]
  },
  {
   "cell_type": "code",
   "execution_count": null,
   "id": "7e04731c",
   "metadata": {
    "papermill": {
     "duration": 0.129335,
     "end_time": "2024-10-09T01:39:21.091898",
     "exception": false,
     "start_time": "2024-10-09T01:39:20.962563",
     "status": "completed"
    },
    "tags": []
   },
   "outputs": [],
   "source": [
    "elasticnet_grid.best_params_"
   ]
  },
  {
   "cell_type": "code",
   "execution_count": null,
   "id": "b018aad8",
   "metadata": {
    "papermill": {
     "duration": 0.287534,
     "end_time": "2024-10-09T01:39:21.498468",
     "exception": false,
     "start_time": "2024-10-09T01:39:21.210934",
     "status": "completed"
    },
    "tags": []
   },
   "outputs": [],
   "source": [
    "sgd_lr_pipeline = Pipeline(steps=[\n",
    "    (\"preprocessing\", poly_preprocessing),\n",
    "    (\"model\", SGDRegressor(eta0=0.000001, max_iter=2000, tol=0.0000000001, n_iter_no_change=300, alpha=0.05, penalty='elasticnet', random_state=42))\n",
    "    ])\n",
    "\n",
    "sgd_lr_pipeline"
   ]
  },
  {
   "cell_type": "code",
   "execution_count": null,
   "id": "c502ce74",
   "metadata": {
    "papermill": {
     "duration": 422.747317,
     "end_time": "2024-10-09T01:46:24.367313",
     "exception": false,
     "start_time": "2024-10-09T01:39:21.619996",
     "status": "completed"
    },
    "tags": []
   },
   "outputs": [],
   "source": [
    "# GridSearch SGD took large time so I stopped it\n",
    "params = {\n",
    "    'preprocessing__num_pipeline__poly__degree':[1, 2, 3, 4, 5, 6, 7, 8, 9, 10],\n",
    "    'model__alpha': [0, 0.01, 0.03, 0.05, 0.07]\n",
    "}\n",
    "\n",
    "X_train_copy = X_train[:10000] \n",
    "y_train_copy = y_train[:10000]\n",
    "y_train_preprocessed = target_pipeline.fit_transform(np.array(y_train_copy).reshape(-1, 1))\n",
    "sgd_lr_grid = GridSearchCV(sgd_lr_pipeline, params, cv=3, scoring='neg_mean_squared_error')\n",
    "sgd_lr_grid.fit(X_train_copy, y_train_preprocessed)"
   ]
  },
  {
   "cell_type": "code",
   "execution_count": null,
   "id": "fe60f9bf",
   "metadata": {
    "papermill": {
     "duration": 0.14071,
     "end_time": "2024-10-09T01:46:24.643083",
     "exception": false,
     "start_time": "2024-10-09T01:46:24.502373",
     "status": "completed"
    },
    "tags": []
   },
   "outputs": [],
   "source": [
    "sgd_lr_grid.best_score_"
   ]
  },
  {
   "cell_type": "code",
   "execution_count": null,
   "id": "89785273",
   "metadata": {
    "papermill": {
     "duration": 0.139742,
     "end_time": "2024-10-09T01:46:24.913128",
     "exception": false,
     "start_time": "2024-10-09T01:46:24.773386",
     "status": "completed"
    },
    "tags": []
   },
   "outputs": [],
   "source": [
    "sgd_lr_grid.best_params_"
   ]
  },
  {
   "cell_type": "markdown",
   "id": "fb75434f",
   "metadata": {
    "papermill": {
     "duration": 0.131281,
     "end_time": "2024-10-09T01:46:25.174085",
     "exception": false,
     "start_time": "2024-10-09T01:46:25.042804",
     "status": "completed"
    },
    "tags": []
   },
   "source": [
    "# 4) Test Accuracy\n",
    "\n",
    "**Test on Polynomial Regression as it's the best model**"
   ]
  },
  {
   "cell_type": "code",
   "execution_count": null,
   "id": "157f4031",
   "metadata": {
    "papermill": {
     "duration": 0.413782,
     "end_time": "2024-10-09T01:46:25.718001",
     "exception": false,
     "start_time": "2024-10-09T01:46:25.304219",
     "status": "completed"
    },
    "tags": []
   },
   "outputs": [],
   "source": [
    "y_train_pred = lr_grid.predict(X_train)\n",
    "y_test_pred = lr_grid.predict(X_test)\n",
    "\n",
    "y_train_preprocessed = target_pipeline.fit_transform(np.array(y_train).reshape(-1, 1))\n",
    "y_test_preprocessed = target_pipeline.transform(np.array(y_test).reshape(-1, 1))\n",
    "\n",
    "print(f\"Train Accuracy: {r2_score(y_true=y_train_preprocessed, y_pred=y_train_pred) * 100}\")\n",
    "print(f\"Train Loss: {mean_squared_error(y_true=y_train_preprocessed, y_pred=y_train_pred)}\")\n",
    "print(\"*\" * 50)\n",
    "print(f\"Test Accuracy: {r2_score(y_true=y_train_preprocessed, y_pred=y_train_pred) * 100}\")\n",
    "print(f\"Test Loss: {mean_squared_error(y_true=y_test_preprocessed, y_pred=y_test_pred)}\")"
   ]
  },
  {
   "cell_type": "markdown",
   "id": "c93f2867",
   "metadata": {
    "papermill": {
     "duration": 0.129268,
     "end_time": "2024-10-09T01:46:26.015962",
     "exception": false,
     "start_time": "2024-10-09T01:46:25.886694",
     "status": "completed"
    },
    "tags": []
   },
   "source": [
    "# 5) confidenece inteval"
   ]
  },
  {
   "cell_type": "code",
   "execution_count": null,
   "id": "5a7aa94c",
   "metadata": {
    "papermill": {
     "duration": 0.144318,
     "end_time": "2024-10-09T01:46:26.292395",
     "exception": false,
     "start_time": "2024-10-09T01:46:26.148077",
     "status": "completed"
    },
    "tags": []
   },
   "outputs": [],
   "source": [
    "from scipy import stats\n",
    "\n",
    "confidence = 0.95\n",
    "losses = (y_test_pred - y_test_preprocessed) ** 2\n",
    "\n",
    "np.exp(np.sqrt(stats.t.interval(confidence, len(losses) - 1, loc=np.mean(losses), scale=stats.sem(losses))))"
   ]
  },
  {
   "cell_type": "code",
   "execution_count": null,
   "id": "a79ac2cf",
   "metadata": {
    "papermill": {
     "duration": 0.297976,
     "end_time": "2024-10-09T01:46:26.721529",
     "exception": false,
     "start_time": "2024-10-09T01:46:26.423553",
     "status": "completed"
    },
    "tags": []
   },
   "outputs": [],
   "source": [
    "sns.boxplot(x=y_test) # range of error is from 1.25 -> 1.27 Very Accurate Model"
   ]
  },
  {
   "cell_type": "markdown",
   "id": "c074ea31",
   "metadata": {
    "papermill": {
     "duration": 0.13157,
     "end_time": "2024-10-09T01:46:26.984431",
     "exception": false,
     "start_time": "2024-10-09T01:46:26.852861",
     "status": "completed"
    },
    "tags": []
   },
   "source": [
    "# 6) save model in pkl file then build backend API"
   ]
  },
  {
   "cell_type": "code",
   "execution_count": null,
   "id": "e3e6f807",
   "metadata": {
    "papermill": {
     "duration": 0.151498,
     "end_time": "2024-10-09T01:46:27.268304",
     "exception": false,
     "start_time": "2024-10-09T01:46:27.116806",
     "status": "completed"
    },
    "tags": []
   },
   "outputs": [],
   "source": [
    "import joblib\n",
    "\n",
    "joblib.dump(lr_grid, \"lr_grid.pkl\")"
   ]
  },
  {
   "cell_type": "code",
   "execution_count": null,
   "id": "a120ec37",
   "metadata": {
    "papermill": {
     "duration": 0.504056,
     "end_time": "2024-10-09T01:46:27.903980",
     "exception": false,
     "start_time": "2024-10-09T01:46:27.399924",
     "status": "completed"
    },
    "tags": []
   },
   "outputs": [],
   "source": [
    "best_model = joblib.load(\"lr_grid.pkl\")\n",
    "best_model"
   ]
  },
  {
   "cell_type": "code",
   "execution_count": null,
   "id": "8a241861",
   "metadata": {
    "papermill": {
     "duration": 0.234615,
     "end_time": "2024-10-09T01:46:28.282159",
     "exception": false,
     "start_time": "2024-10-09T01:46:28.047544",
     "status": "completed"
    },
    "tags": []
   },
   "outputs": [],
   "source": [
    "final_result = pd.DataFrame({\"Model\":[\"RandomForestRegressor\", \"GradientBoostingRegressor\",  \"DecisionTreeRegressor\", \"KNeighborsRegressor\", \"lr_model\", \"Lasso\", \"Ridge\", \"ElasticNet\", \"SGDRegressor (50K instances)\"], \"Train Loss\": [0.007954773547020965, 0.05221231697540447, 1.5149531412145706e-33, 0.05748298754071343, 0.057571965589347844 ,0.06866931651374757 , 0.057572064640142334 , 0.061338878055220786, 0.07089341941874089], \"Train Accuracy\": [0.973143963463834, 0.8237264852304357, 1.0, 0.8059322236546247, 0.8056318256972326 ,0.7681661630836255 , 0.8056314912927721 , 0.7929143877696742, 0.7591942493302271], \"Valid Loss\":[0.056957, 0.053163,  0.112773, 0.090541, 0.0567113457592562 , 0.05850731750265833 , 0.056712284577467374 , 0.05850731750265833, 0.06646256289310794], \"Valid Accuracy\":[0.807370, 0.820506, 0.621280, 0.694319, 0.805562 , 0.768128 , 0.805562 , 0.792884, 0.754454]})\n",
    "final_result = final_result.round(4)\n",
    "final_result = final_result.sort_values(by='Valid Accuracy', ascending=False).reset_index(drop=True)\n",
    "final_result.to_csv(\"/kaggle/working/regression_models_summery.csv\", index=False)\n",
    "final_result"
   ]
  },
  {
   "cell_type": "markdown",
   "id": "3ac774e7",
   "metadata": {
    "papermill": {
     "duration": 0.133635,
     "end_time": "2024-10-09T01:46:28.548958",
     "exception": false,
     "start_time": "2024-10-09T01:46:28.415323",
     "status": "completed"
    },
    "tags": []
   },
   "source": [
    "## 7) Steps to further Improve Model\n",
    "\n",
    "* 1) Try Complex Model (for example XGBRegressor, ..etc)\n",
    "\n",
    "* 2) Ensamble Best Models \n",
    "\n",
    "* 3) Collect More Features\n",
    "\n",
    "* 4) More Invstigateing in Noisy Data"
   ]
  }
 ],
 "metadata": {
  "kaggle": {
   "accelerator": "none",
   "dataSources": [
    {
     "datasetId": 1834623,
     "sourceId": 2994100,
     "sourceType": "datasetVersion"
    },
    {
     "datasetId": 5842662,
     "sourceId": 9581791,
     "sourceType": "datasetVersion"
    }
   ],
   "dockerImageVersionId": 30786,
   "isGpuEnabled": false,
   "isInternetEnabled": true,
   "language": "python",
   "sourceType": "notebook"
  },
  "kernelspec": {
   "display_name": "Python 3 (ipykernel)",
   "language": "python",
   "name": "python3"
  },
  "language_info": {
   "codemirror_mode": {
    "name": "ipython",
    "version": 3
   },
   "file_extension": ".py",
   "mimetype": "text/x-python",
   "name": "python",
   "nbconvert_exporter": "python",
   "pygments_lexer": "ipython3",
   "version": "3.11.5"
  },
  "papermill": {
   "default_parameters": {},
   "duration": 2049.228648,
   "end_time": "2024-10-09T01:46:30.107693",
   "environment_variables": {},
   "exception": null,
   "input_path": "__notebook__.ipynb",
   "output_path": "__notebook__.ipynb",
   "parameters": {},
   "start_time": "2024-10-09T01:12:20.879045",
   "version": "2.6.0"
  }
 },
 "nbformat": 4,
 "nbformat_minor": 5
}
